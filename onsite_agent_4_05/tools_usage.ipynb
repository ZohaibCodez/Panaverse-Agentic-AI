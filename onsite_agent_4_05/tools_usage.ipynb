{
  "cells": [
    {
      "cell_type": "code",
      "source": [
        "!pip install -Uq openai-agents"
      ],
      "metadata": {
        "id": "gVUGZCkQ5-zo"
      },
      "execution_count": 2,
      "outputs": []
    },
    {
      "cell_type": "code",
      "source": [
        "import nest_asyncio\n",
        "nest_asyncio.apply()"
      ],
      "metadata": {
        "id": "c-Zl43V-6A9m"
      },
      "execution_count": 10,
      "outputs": []
    },
    {
      "cell_type": "code",
      "source": [
        "import os\n",
        "from agents import Agent,Runner,AsyncOpenAI,OpenAIChatCompletionsModel\n",
        "from agents.run import RunConfig\n",
        "from google.colab import userdata\n",
        "\n",
        "gemini_api_key = userdata.get(\"GOOGLE_API_KEY\")\n",
        "\n",
        "external_client = AsyncOpenAI(\n",
        "    base_url = \"https://generativelanguage.googleapis.com/v1beta/openai/\",\n",
        "    api_key = gemini_api_key\n",
        ")\n",
        "\n",
        "model = OpenAIChatCompletionsModel(\n",
        "    openai_client=external_client,\n",
        "    model=\"gemini-2.0-flash\",\n",
        ")\n",
        "\n",
        "config = RunConfig(\n",
        "    model=model,\n",
        "    model_provider=external_client,\n",
        "    tracing_disabled=True\n",
        ")"
      ],
      "metadata": {
        "id": "XWw7PZPS6amv"
      },
      "execution_count": 12,
      "outputs": []
    },
    {
      "cell_type": "code",
      "source": [
        "from agents.tool import function_tool\n",
        "\n",
        "@function_tool(\"get_weather\")\n",
        "def get_weather(location:str,unit,str)->str:\n",
        "  \"\"\"\n",
        "  Fetch the weather for a given location and return it in a string.\n",
        "  \"\"\"\n",
        "\n",
        "  return f\"The weather is sunny in {location} and is about 22 degrees {unit}\"\n",
        ""
      ],
      "metadata": {
        "id": "VQSjEKsb7pCA"
      },
      "execution_count": 5,
      "outputs": []
    },
    {
      "cell_type": "code",
      "source": [
        "@function_tool(\"university_student_finder\")\n",
        "def student_finder(student_roll:int)->str:\n",
        "  \"\"\"\n",
        "  Find the university student based on a roll no\n",
        "  \"\"\"\n",
        "\n",
        "  data={\n",
        "      1:\"Zohaib\",\n",
        "      2:\"Mutahhar\",\n",
        "      3:\"Ali Hamza\"\n",
        "  }\n",
        "\n",
        "  return data.get(student_roll,\"Student not found\")"
      ],
      "metadata": {
        "id": "3cGxBMYD8RPD"
      },
      "execution_count": 6,
      "outputs": []
    },
    {
      "cell_type": "code",
      "source": [
        "!pip install tavily-python"
      ],
      "metadata": {
        "collapsed": true,
        "id": "x6kyF2ep_kRj",
        "outputId": "383842c9-9786-4142-ae8f-ea2ef5485bb4",
        "colab": {
          "base_uri": "https://localhost:8080/"
        }
      },
      "execution_count": 15,
      "outputs": [
        {
          "output_type": "stream",
          "name": "stdout",
          "text": [
            "Collecting tavily-python\n",
            "  Downloading tavily_python-0.7.1-py3-none-any.whl.metadata (6.1 kB)\n",
            "Requirement already satisfied: requests in /usr/local/lib/python3.11/dist-packages (from tavily-python) (2.32.3)\n",
            "Collecting tiktoken>=0.5.1 (from tavily-python)\n",
            "  Downloading tiktoken-0.9.0-cp311-cp311-manylinux_2_17_x86_64.manylinux2014_x86_64.whl.metadata (6.7 kB)\n",
            "Requirement already satisfied: httpx in /usr/local/lib/python3.11/dist-packages (from tavily-python) (0.28.1)\n",
            "Requirement already satisfied: regex>=2022.1.18 in /usr/local/lib/python3.11/dist-packages (from tiktoken>=0.5.1->tavily-python) (2024.11.6)\n",
            "Requirement already satisfied: charset-normalizer<4,>=2 in /usr/local/lib/python3.11/dist-packages (from requests->tavily-python) (3.4.1)\n",
            "Requirement already satisfied: idna<4,>=2.5 in /usr/local/lib/python3.11/dist-packages (from requests->tavily-python) (3.10)\n",
            "Requirement already satisfied: urllib3<3,>=1.21.1 in /usr/local/lib/python3.11/dist-packages (from requests->tavily-python) (2.4.0)\n",
            "Requirement already satisfied: certifi>=2017.4.17 in /usr/local/lib/python3.11/dist-packages (from requests->tavily-python) (2025.4.26)\n",
            "Requirement already satisfied: anyio in /usr/local/lib/python3.11/dist-packages (from httpx->tavily-python) (4.9.0)\n",
            "Requirement already satisfied: httpcore==1.* in /usr/local/lib/python3.11/dist-packages (from httpx->tavily-python) (1.0.9)\n",
            "Requirement already satisfied: h11>=0.16 in /usr/local/lib/python3.11/dist-packages (from httpcore==1.*->httpx->tavily-python) (0.16.0)\n",
            "Requirement already satisfied: sniffio>=1.1 in /usr/local/lib/python3.11/dist-packages (from anyio->httpx->tavily-python) (1.3.1)\n",
            "Requirement already satisfied: typing_extensions>=4.5 in /usr/local/lib/python3.11/dist-packages (from anyio->httpx->tavily-python) (4.13.2)\n",
            "Downloading tavily_python-0.7.1-py3-none-any.whl (14 kB)\n",
            "Downloading tiktoken-0.9.0-cp311-cp311-manylinux_2_17_x86_64.manylinux2014_x86_64.whl (1.2 MB)\n",
            "\u001b[2K   \u001b[90m━━━━━━━━━━━━━━━━━━━━━━━━━━━━━━━━━━━━━━━━\u001b[0m \u001b[32m1.2/1.2 MB\u001b[0m \u001b[31m18.2 MB/s\u001b[0m eta \u001b[36m0:00:00\u001b[0m\n",
            "\u001b[?25hInstalling collected packages: tiktoken, tavily-python\n",
            "Successfully installed tavily-python-0.7.1 tiktoken-0.9.0\n"
          ]
        }
      ]
    },
    {
      "cell_type": "code",
      "source": [],
      "metadata": {
        "id": "0-gmDyuY_5uf"
      },
      "execution_count": null,
      "outputs": []
    },
    {
      "cell_type": "code",
      "source": [
        "from tavily import TavilyClient\n",
        "\n",
        "tavily_client = TavilyClient(api_key = userdata.get(\"TAVILY_API_KEY\"))\n",
        "response = tavily_client.search(\"Tell me the current usd to pkr currency rate\")\n",
        "display(response['results'][0]['content'],type(response['results'][0]['content']))"
      ],
      "metadata": {
        "id": "l-IqWJnu_3D9",
        "outputId": "8f17c58f-b162-497f-bd5d-633f20c15f77",
        "colab": {
          "base_uri": "https://localhost:8080/",
          "height": 106
        }
      },
      "execution_count": 52,
      "outputs": [
        {
          "output_type": "display_data",
          "data": {
            "text/plain": [
              "'USD to PKR - US Dollar to PKR Rates. As of today, 27-04-2025 16:15:59, the USD to PKR exchange rate is 280.31 PKR. Therefore, the buying/selling rates for 1 US Dollar to Pakistani Rupees is PKR: 280.31. Here you will find the latest Dollar to Pakistani Rupees exchange rates, our real-time updates allows you to make transactions or exchange currencies at the best possible conversion rates.'"
            ],
            "application/vnd.google.colaboratory.intrinsic+json": {
              "type": "string"
            }
          },
          "metadata": {}
        },
        {
          "output_type": "display_data",
          "data": {
            "text/plain": [
              "str"
            ]
          },
          "metadata": {}
        }
      ]
    },
    {
      "cell_type": "code",
      "source": [
        "@function_tool(\"search_online\")\n",
        "def search_online(query:str)->str:\n",
        "  response = tavily_client.search(query)\n",
        "  # print(response)\n",
        "  return response['results'][0]['content']\n"
      ],
      "metadata": {
        "id": "TVoI2P4i_rrN"
      },
      "execution_count": 53,
      "outputs": []
    },
    {
      "cell_type": "code",
      "source": [
        "import asyncio\n",
        "from agents import set_tracing_disabled\n",
        "set_tracing_disabled(True)\n",
        "\n",
        "async def main():\n",
        "  agent = Agent(\n",
        "      name = \"Assistant\",\n",
        "      instructions=\"Answer the user question\",\n",
        "      tools = [search_online],\n",
        "      model=model\n",
        "  )\n",
        "\n",
        "  result = await Runner.run(agent,\"Tell me the current usd to pkr currency rate\",run_config=config)\n",
        "  print(result.final_output)\n",
        "\n",
        "asyncio.run(main())"
      ],
      "metadata": {
        "id": "ZcLE28VhMqXK",
        "outputId": "1ee8c854-2eb5-446b-d5f3-1a203ef8dead",
        "colab": {
          "base_uri": "https://localhost:8080/"
        }
      },
      "execution_count": 58,
      "outputs": [
        {
          "output_type": "stream",
          "name": "stdout",
          "text": [
            "Tracing is disabled. Not creating trace Agent workflow\n",
            "Tracing is disabled. Not creating trace Agent workflow\n",
            "Tracing is disabled. Not creating trace Agent workflow\n"
          ]
        },
        {
          "output_type": "stream",
          "name": "stderr",
          "text": [
            "DEBUG:openai.agents:Tracing is disabled. Not creating trace Agent workflow\n"
          ]
        },
        {
          "output_type": "stream",
          "name": "stdout",
          "text": [
            "Setting current trace: no-op\n",
            "Setting current trace: no-op\n",
            "Setting current trace: no-op\n"
          ]
        },
        {
          "output_type": "stream",
          "name": "stderr",
          "text": [
            "DEBUG:openai.agents:Setting current trace: no-op\n"
          ]
        },
        {
          "output_type": "stream",
          "name": "stdout",
          "text": [
            "Tracing is disabled. Not creating span <agents.tracing.span_data.AgentSpanData object at 0x7a96d760a7b0>\n",
            "Tracing is disabled. Not creating span <agents.tracing.span_data.AgentSpanData object at 0x7a96d760a7b0>\n",
            "Tracing is disabled. Not creating span <agents.tracing.span_data.AgentSpanData object at 0x7a96d760a7b0>\n"
          ]
        },
        {
          "output_type": "stream",
          "name": "stderr",
          "text": [
            "DEBUG:openai.agents:Tracing is disabled. Not creating span <agents.tracing.span_data.AgentSpanData object at 0x7a96d760a7b0>\n"
          ]
        },
        {
          "output_type": "stream",
          "name": "stdout",
          "text": [
            "Running agent Assistant (turn 1)\n",
            "Running agent Assistant (turn 1)\n",
            "Running agent Assistant (turn 1)\n"
          ]
        },
        {
          "output_type": "stream",
          "name": "stderr",
          "text": [
            "DEBUG:openai.agents:Running agent Assistant (turn 1)\n"
          ]
        },
        {
          "output_type": "stream",
          "name": "stdout",
          "text": [
            "Tracing is disabled. Not creating span <agents.tracing.span_data.GenerationSpanData object at 0x7a96d7637530>\n",
            "Tracing is disabled. Not creating span <agents.tracing.span_data.GenerationSpanData object at 0x7a96d7637530>\n",
            "Tracing is disabled. Not creating span <agents.tracing.span_data.GenerationSpanData object at 0x7a96d7637530>\n"
          ]
        },
        {
          "output_type": "stream",
          "name": "stderr",
          "text": [
            "DEBUG:openai.agents:Tracing is disabled. Not creating span <agents.tracing.span_data.GenerationSpanData object at 0x7a96d7637530>\n"
          ]
        },
        {
          "output_type": "stream",
          "name": "stdout",
          "text": [
            "[\n",
            "  {\n",
            "    \"content\": \"Answer the user question\",\n",
            "    \"role\": \"system\"\n",
            "  },\n",
            "  {\n",
            "    \"role\": \"user\",\n",
            "    \"content\": \"Tell me the current usd to pkr currency rate\"\n",
            "  }\n",
            "]\n",
            "Tools:\n",
            "[\n",
            "  {\n",
            "    \"type\": \"function\",\n",
            "    \"function\": {\n",
            "      \"name\": \"search_online\",\n",
            "      \"description\": \"\",\n",
            "      \"parameters\": {\n",
            "        \"properties\": {\n",
            "          \"query\": {\n",
            "            \"title\": \"Query\",\n",
            "            \"type\": \"string\"\n",
            "          }\n",
            "        },\n",
            "        \"required\": [\n",
            "          \"query\"\n",
            "        ],\n",
            "        \"title\": \"search_online_args\",\n",
            "        \"type\": \"object\",\n",
            "        \"additionalProperties\": false\n",
            "      }\n",
            "    }\n",
            "  }\n",
            "]\n",
            "Stream: False\n",
            "Tool choice: NOT_GIVEN\n",
            "Response format: NOT_GIVEN\n",
            "\n",
            "[\n",
            "  {\n",
            "    \"content\": \"Answer the user question\",\n",
            "    \"role\": \"system\"\n",
            "  },\n",
            "  {\n",
            "    \"role\": \"user\",\n",
            "    \"content\": \"Tell me the current usd to pkr currency rate\"\n",
            "  }\n",
            "]\n",
            "Tools:\n",
            "[\n",
            "  {\n",
            "    \"type\": \"function\",\n",
            "    \"function\": {\n",
            "      \"name\": \"search_online\",\n",
            "      \"description\": \"\",\n",
            "      \"parameters\": {\n",
            "        \"properties\": {\n",
            "          \"query\": {\n",
            "            \"title\": \"Query\",\n",
            "            \"type\": \"string\"\n",
            "          }\n",
            "        },\n",
            "        \"required\": [\n",
            "          \"query\"\n",
            "        ],\n",
            "        \"title\": \"search_online_args\",\n",
            "        \"type\": \"object\",\n",
            "        \"additionalProperties\": false\n",
            "      }\n",
            "    }\n",
            "  }\n",
            "]\n",
            "Stream: False\n",
            "Tool choice: NOT_GIVEN\n",
            "Response format: NOT_GIVEN\n",
            "\n",
            "[\n",
            "  {\n",
            "    \"content\": \"Answer the user question\",\n",
            "    \"role\": \"system\"\n",
            "  },\n",
            "  {\n",
            "    \"role\": \"user\",\n",
            "    \"content\": \"Tell me the current usd to pkr currency rate\"\n",
            "  }\n",
            "]\n",
            "Tools:\n",
            "[\n",
            "  {\n",
            "    \"type\": \"function\",\n",
            "    \"function\": {\n",
            "      \"name\": \"search_online\",\n",
            "      \"description\": \"\",\n",
            "      \"parameters\": {\n",
            "        \"properties\": {\n",
            "          \"query\": {\n",
            "            \"title\": \"Query\",\n",
            "            \"type\": \"string\"\n",
            "          }\n",
            "        },\n",
            "        \"required\": [\n",
            "          \"query\"\n",
            "        ],\n",
            "        \"title\": \"search_online_args\",\n",
            "        \"type\": \"object\",\n",
            "        \"additionalProperties\": false\n",
            "      }\n",
            "    }\n",
            "  }\n",
            "]\n",
            "Stream: False\n",
            "Tool choice: NOT_GIVEN\n",
            "Response format: NOT_GIVEN\n",
            "\n"
          ]
        },
        {
          "output_type": "stream",
          "name": "stderr",
          "text": [
            "DEBUG:openai.agents:[\n",
            "  {\n",
            "    \"content\": \"Answer the user question\",\n",
            "    \"role\": \"system\"\n",
            "  },\n",
            "  {\n",
            "    \"role\": \"user\",\n",
            "    \"content\": \"Tell me the current usd to pkr currency rate\"\n",
            "  }\n",
            "]\n",
            "Tools:\n",
            "[\n",
            "  {\n",
            "    \"type\": \"function\",\n",
            "    \"function\": {\n",
            "      \"name\": \"search_online\",\n",
            "      \"description\": \"\",\n",
            "      \"parameters\": {\n",
            "        \"properties\": {\n",
            "          \"query\": {\n",
            "            \"title\": \"Query\",\n",
            "            \"type\": \"string\"\n",
            "          }\n",
            "        },\n",
            "        \"required\": [\n",
            "          \"query\"\n",
            "        ],\n",
            "        \"title\": \"search_online_args\",\n",
            "        \"type\": \"object\",\n",
            "        \"additionalProperties\": false\n",
            "      }\n",
            "    }\n",
            "  }\n",
            "]\n",
            "Stream: False\n",
            "Tool choice: NOT_GIVEN\n",
            "Response format: NOT_GIVEN\n",
            "\n"
          ]
        },
        {
          "output_type": "stream",
          "name": "stdout",
          "text": [
            "LLM resp:\n",
            "{\n",
            "  \"content\": null,\n",
            "  \"refusal\": null,\n",
            "  \"role\": \"assistant\",\n",
            "  \"annotations\": null,\n",
            "  \"audio\": null,\n",
            "  \"function_call\": null,\n",
            "  \"tool_calls\": [\n",
            "    {\n",
            "      \"id\": \"\",\n",
            "      \"function\": {\n",
            "        \"arguments\": \"{\\\"query\\\":\\\"usd to pkr exchange rate\\\"}\",\n",
            "        \"name\": \"search_online\"\n",
            "      },\n",
            "      \"type\": \"function\"\n",
            "    }\n",
            "  ]\n",
            "}\n",
            "\n",
            "LLM resp:\n",
            "{\n",
            "  \"content\": null,\n",
            "  \"refusal\": null,\n",
            "  \"role\": \"assistant\",\n",
            "  \"annotations\": null,\n",
            "  \"audio\": null,\n",
            "  \"function_call\": null,\n",
            "  \"tool_calls\": [\n",
            "    {\n",
            "      \"id\": \"\",\n",
            "      \"function\": {\n",
            "        \"arguments\": \"{\\\"query\\\":\\\"usd to pkr exchange rate\\\"}\",\n",
            "        \"name\": \"search_online\"\n",
            "      },\n",
            "      \"type\": \"function\"\n",
            "    }\n",
            "  ]\n",
            "}\n",
            "\n",
            "LLM resp:\n",
            "{\n",
            "  \"content\": null,\n",
            "  \"refusal\": null,\n",
            "  \"role\": \"assistant\",\n",
            "  \"annotations\": null,\n",
            "  \"audio\": null,\n",
            "  \"function_call\": null,\n",
            "  \"tool_calls\": [\n",
            "    {\n",
            "      \"id\": \"\",\n",
            "      \"function\": {\n",
            "        \"arguments\": \"{\\\"query\\\":\\\"usd to pkr exchange rate\\\"}\",\n",
            "        \"name\": \"search_online\"\n",
            "      },\n",
            "      \"type\": \"function\"\n",
            "    }\n",
            "  ]\n",
            "}\n",
            "\n"
          ]
        },
        {
          "output_type": "stream",
          "name": "stderr",
          "text": [
            "DEBUG:openai.agents:LLM resp:\n",
            "{\n",
            "  \"content\": null,\n",
            "  \"refusal\": null,\n",
            "  \"role\": \"assistant\",\n",
            "  \"annotations\": null,\n",
            "  \"audio\": null,\n",
            "  \"function_call\": null,\n",
            "  \"tool_calls\": [\n",
            "    {\n",
            "      \"id\": \"\",\n",
            "      \"function\": {\n",
            "        \"arguments\": \"{\\\"query\\\":\\\"usd to pkr exchange rate\\\"}\",\n",
            "        \"name\": \"search_online\"\n",
            "      },\n",
            "      \"type\": \"function\"\n",
            "    }\n",
            "  ]\n",
            "}\n",
            "\n"
          ]
        },
        {
          "output_type": "stream",
          "name": "stdout",
          "text": [
            "Tracing is disabled. Not creating span <agents.tracing.span_data.FunctionSpanData object at 0x7a96d7637530>\n",
            "Tracing is disabled. Not creating span <agents.tracing.span_data.FunctionSpanData object at 0x7a96d7637530>\n",
            "Tracing is disabled. Not creating span <agents.tracing.span_data.FunctionSpanData object at 0x7a96d7637530>\n"
          ]
        },
        {
          "output_type": "stream",
          "name": "stderr",
          "text": [
            "DEBUG:openai.agents:Tracing is disabled. Not creating span <agents.tracing.span_data.FunctionSpanData object at 0x7a96d7637530>\n"
          ]
        },
        {
          "output_type": "stream",
          "name": "stdout",
          "text": [
            "Invoking tool search_online with input {\"query\":\"usd to pkr exchange rate\"}\n",
            "Invoking tool search_online with input {\"query\":\"usd to pkr exchange rate\"}\n",
            "Invoking tool search_online with input {\"query\":\"usd to pkr exchange rate\"}\n"
          ]
        },
        {
          "output_type": "stream",
          "name": "stderr",
          "text": [
            "DEBUG:openai.agents:Invoking tool search_online with input {\"query\":\"usd to pkr exchange rate\"}\n"
          ]
        },
        {
          "output_type": "stream",
          "name": "stdout",
          "text": [
            "Tool call args: ['usd to pkr exchange rate'], kwargs: {}\n",
            "Tool call args: ['usd to pkr exchange rate'], kwargs: {}\n",
            "Tool call args: ['usd to pkr exchange rate'], kwargs: {}\n"
          ]
        },
        {
          "output_type": "stream",
          "name": "stderr",
          "text": [
            "DEBUG:openai.agents:Tool call args: ['usd to pkr exchange rate'], kwargs: {}\n"
          ]
        },
        {
          "output_type": "stream",
          "name": "stdout",
          "text": [
            "Tool search_online returned In the past 30 days, the USD to PKR exchange rate reached a high of 281.90 and a low of 280.01, with an average rate of 280.69. The overall change in this period was +0.57% . Over the last 90 days , the USD to PKR exchange rate peaked at 293.33 and dipped to a low of 278.82, averaging 280.24.\n",
            "Tool search_online returned In the past 30 days, the USD to PKR exchange rate reached a high of 281.90 and a low of 280.01, with an average rate of 280.69. The overall change in this period was +0.57% . Over the last 90 days , the USD to PKR exchange rate peaked at 293.33 and dipped to a low of 278.82, averaging 280.24.\n",
            "Tool search_online returned In the past 30 days, the USD to PKR exchange rate reached a high of 281.90 and a low of 280.01, with an average rate of 280.69. The overall change in this period was +0.57% . Over the last 90 days , the USD to PKR exchange rate peaked at 293.33 and dipped to a low of 278.82, averaging 280.24.\n"
          ]
        },
        {
          "output_type": "stream",
          "name": "stderr",
          "text": [
            "DEBUG:openai.agents:Tool search_online returned In the past 30 days, the USD to PKR exchange rate reached a high of 281.90 and a low of 280.01, with an average rate of 280.69. The overall change in this period was +0.57% . Over the last 90 days , the USD to PKR exchange rate peaked at 293.33 and dipped to a low of 278.82, averaging 280.24.\n"
          ]
        },
        {
          "output_type": "stream",
          "name": "stdout",
          "text": [
            "Running agent Assistant (turn 2)\n",
            "Running agent Assistant (turn 2)\n",
            "Running agent Assistant (turn 2)\n"
          ]
        },
        {
          "output_type": "stream",
          "name": "stderr",
          "text": [
            "DEBUG:openai.agents:Running agent Assistant (turn 2)\n"
          ]
        },
        {
          "output_type": "stream",
          "name": "stdout",
          "text": [
            "Tracing is disabled. Not creating span <agents.tracing.span_data.GenerationSpanData object at 0x7a96d7637530>\n",
            "Tracing is disabled. Not creating span <agents.tracing.span_data.GenerationSpanData object at 0x7a96d7637530>\n",
            "Tracing is disabled. Not creating span <agents.tracing.span_data.GenerationSpanData object at 0x7a96d7637530>\n"
          ]
        },
        {
          "output_type": "stream",
          "name": "stderr",
          "text": [
            "DEBUG:openai.agents:Tracing is disabled. Not creating span <agents.tracing.span_data.GenerationSpanData object at 0x7a96d7637530>\n"
          ]
        },
        {
          "output_type": "stream",
          "name": "stdout",
          "text": [
            "[\n",
            "  {\n",
            "    \"content\": \"Answer the user question\",\n",
            "    \"role\": \"system\"\n",
            "  },\n",
            "  {\n",
            "    \"role\": \"user\",\n",
            "    \"content\": \"Tell me the current usd to pkr currency rate\"\n",
            "  },\n",
            "  {\n",
            "    \"role\": \"assistant\",\n",
            "    \"tool_calls\": [\n",
            "      {\n",
            "        \"id\": \"\",\n",
            "        \"type\": \"function\",\n",
            "        \"function\": {\n",
            "          \"name\": \"search_online\",\n",
            "          \"arguments\": \"{\\\"query\\\":\\\"usd to pkr exchange rate\\\"}\"\n",
            "        }\n",
            "      }\n",
            "    ]\n",
            "  },\n",
            "  {\n",
            "    \"role\": \"tool\",\n",
            "    \"tool_call_id\": \"\",\n",
            "    \"content\": \"In the past 30 days, the USD to PKR exchange rate reached a high of 281.90 and a low of 280.01, with an average rate of 280.69. The overall change in this period was +0.57% . Over the last 90 days , the USD to PKR exchange rate peaked at 293.33 and dipped to a low of 278.82, averaging 280.24.\"\n",
            "  }\n",
            "]\n",
            "Tools:\n",
            "[\n",
            "  {\n",
            "    \"type\": \"function\",\n",
            "    \"function\": {\n",
            "      \"name\": \"search_online\",\n",
            "      \"description\": \"\",\n",
            "      \"parameters\": {\n",
            "        \"properties\": {\n",
            "          \"query\": {\n",
            "            \"title\": \"Query\",\n",
            "            \"type\": \"string\"\n",
            "          }\n",
            "        },\n",
            "        \"required\": [\n",
            "          \"query\"\n",
            "        ],\n",
            "        \"title\": \"search_online_args\",\n",
            "        \"type\": \"object\",\n",
            "        \"additionalProperties\": false\n",
            "      }\n",
            "    }\n",
            "  }\n",
            "]\n",
            "Stream: False\n",
            "Tool choice: NOT_GIVEN\n",
            "Response format: NOT_GIVEN\n",
            "\n",
            "[\n",
            "  {\n",
            "    \"content\": \"Answer the user question\",\n",
            "    \"role\": \"system\"\n",
            "  },\n",
            "  {\n",
            "    \"role\": \"user\",\n",
            "    \"content\": \"Tell me the current usd to pkr currency rate\"\n",
            "  },\n",
            "  {\n",
            "    \"role\": \"assistant\",\n",
            "    \"tool_calls\": [\n",
            "      {\n",
            "        \"id\": \"\",\n",
            "        \"type\": \"function\",\n",
            "        \"function\": {\n",
            "          \"name\": \"search_online\",\n",
            "          \"arguments\": \"{\\\"query\\\":\\\"usd to pkr exchange rate\\\"}\"\n",
            "        }\n",
            "      }\n",
            "    ]\n",
            "  },\n",
            "  {\n",
            "    \"role\": \"tool\",\n",
            "    \"tool_call_id\": \"\",\n",
            "    \"content\": \"In the past 30 days, the USD to PKR exchange rate reached a high of 281.90 and a low of 280.01, with an average rate of 280.69. The overall change in this period was +0.57% . Over the last 90 days , the USD to PKR exchange rate peaked at 293.33 and dipped to a low of 278.82, averaging 280.24.\"\n",
            "  }\n",
            "]\n",
            "Tools:\n",
            "[\n",
            "  {\n",
            "    \"type\": \"function\",\n",
            "    \"function\": {\n",
            "      \"name\": \"search_online\",\n",
            "      \"description\": \"\",\n",
            "      \"parameters\": {\n",
            "        \"properties\": {\n",
            "          \"query\": {\n",
            "            \"title\": \"Query\",\n",
            "            \"type\": \"string\"\n",
            "          }\n",
            "        },\n",
            "        \"required\": [\n",
            "          \"query\"\n",
            "        ],\n",
            "        \"title\": \"search_online_args\",\n",
            "        \"type\": \"object\",\n",
            "        \"additionalProperties\": false\n",
            "      }\n",
            "    }\n",
            "  }\n",
            "]\n",
            "Stream: False\n",
            "Tool choice: NOT_GIVEN\n",
            "Response format: NOT_GIVEN\n",
            "\n",
            "[\n",
            "  {\n",
            "    \"content\": \"Answer the user question\",\n",
            "    \"role\": \"system\"\n",
            "  },\n",
            "  {\n",
            "    \"role\": \"user\",\n",
            "    \"content\": \"Tell me the current usd to pkr currency rate\"\n",
            "  },\n",
            "  {\n",
            "    \"role\": \"assistant\",\n",
            "    \"tool_calls\": [\n",
            "      {\n",
            "        \"id\": \"\",\n",
            "        \"type\": \"function\",\n",
            "        \"function\": {\n",
            "          \"name\": \"search_online\",\n",
            "          \"arguments\": \"{\\\"query\\\":\\\"usd to pkr exchange rate\\\"}\"\n",
            "        }\n",
            "      }\n",
            "    ]\n",
            "  },\n",
            "  {\n",
            "    \"role\": \"tool\",\n",
            "    \"tool_call_id\": \"\",\n",
            "    \"content\": \"In the past 30 days, the USD to PKR exchange rate reached a high of 281.90 and a low of 280.01, with an average rate of 280.69. The overall change in this period was +0.57% . Over the last 90 days , the USD to PKR exchange rate peaked at 293.33 and dipped to a low of 278.82, averaging 280.24.\"\n",
            "  }\n",
            "]\n",
            "Tools:\n",
            "[\n",
            "  {\n",
            "    \"type\": \"function\",\n",
            "    \"function\": {\n",
            "      \"name\": \"search_online\",\n",
            "      \"description\": \"\",\n",
            "      \"parameters\": {\n",
            "        \"properties\": {\n",
            "          \"query\": {\n",
            "            \"title\": \"Query\",\n",
            "            \"type\": \"string\"\n",
            "          }\n",
            "        },\n",
            "        \"required\": [\n",
            "          \"query\"\n",
            "        ],\n",
            "        \"title\": \"search_online_args\",\n",
            "        \"type\": \"object\",\n",
            "        \"additionalProperties\": false\n",
            "      }\n",
            "    }\n",
            "  }\n",
            "]\n",
            "Stream: False\n",
            "Tool choice: NOT_GIVEN\n",
            "Response format: NOT_GIVEN\n",
            "\n"
          ]
        },
        {
          "output_type": "stream",
          "name": "stderr",
          "text": [
            "DEBUG:openai.agents:[\n",
            "  {\n",
            "    \"content\": \"Answer the user question\",\n",
            "    \"role\": \"system\"\n",
            "  },\n",
            "  {\n",
            "    \"role\": \"user\",\n",
            "    \"content\": \"Tell me the current usd to pkr currency rate\"\n",
            "  },\n",
            "  {\n",
            "    \"role\": \"assistant\",\n",
            "    \"tool_calls\": [\n",
            "      {\n",
            "        \"id\": \"\",\n",
            "        \"type\": \"function\",\n",
            "        \"function\": {\n",
            "          \"name\": \"search_online\",\n",
            "          \"arguments\": \"{\\\"query\\\":\\\"usd to pkr exchange rate\\\"}\"\n",
            "        }\n",
            "      }\n",
            "    ]\n",
            "  },\n",
            "  {\n",
            "    \"role\": \"tool\",\n",
            "    \"tool_call_id\": \"\",\n",
            "    \"content\": \"In the past 30 days, the USD to PKR exchange rate reached a high of 281.90 and a low of 280.01, with an average rate of 280.69. The overall change in this period was +0.57% . Over the last 90 days , the USD to PKR exchange rate peaked at 293.33 and dipped to a low of 278.82, averaging 280.24.\"\n",
            "  }\n",
            "]\n",
            "Tools:\n",
            "[\n",
            "  {\n",
            "    \"type\": \"function\",\n",
            "    \"function\": {\n",
            "      \"name\": \"search_online\",\n",
            "      \"description\": \"\",\n",
            "      \"parameters\": {\n",
            "        \"properties\": {\n",
            "          \"query\": {\n",
            "            \"title\": \"Query\",\n",
            "            \"type\": \"string\"\n",
            "          }\n",
            "        },\n",
            "        \"required\": [\n",
            "          \"query\"\n",
            "        ],\n",
            "        \"title\": \"search_online_args\",\n",
            "        \"type\": \"object\",\n",
            "        \"additionalProperties\": false\n",
            "      }\n",
            "    }\n",
            "  }\n",
            "]\n",
            "Stream: False\n",
            "Tool choice: NOT_GIVEN\n",
            "Response format: NOT_GIVEN\n",
            "\n"
          ]
        },
        {
          "output_type": "stream",
          "name": "stdout",
          "text": [
            "LLM resp:\n",
            "{\n",
            "  \"content\": \"The USD to PKR exchange rate has fluctuated between 280.01 and 281.90 in the past 30 days, with an average rate of 280.69.\\n\",\n",
            "  \"refusal\": null,\n",
            "  \"role\": \"assistant\",\n",
            "  \"annotations\": null,\n",
            "  \"audio\": null,\n",
            "  \"function_call\": null,\n",
            "  \"tool_calls\": null\n",
            "}\n",
            "\n",
            "LLM resp:\n",
            "{\n",
            "  \"content\": \"The USD to PKR exchange rate has fluctuated between 280.01 and 281.90 in the past 30 days, with an average rate of 280.69.\\n\",\n",
            "  \"refusal\": null,\n",
            "  \"role\": \"assistant\",\n",
            "  \"annotations\": null,\n",
            "  \"audio\": null,\n",
            "  \"function_call\": null,\n",
            "  \"tool_calls\": null\n",
            "}\n",
            "\n",
            "LLM resp:\n",
            "{\n",
            "  \"content\": \"The USD to PKR exchange rate has fluctuated between 280.01 and 281.90 in the past 30 days, with an average rate of 280.69.\\n\",\n",
            "  \"refusal\": null,\n",
            "  \"role\": \"assistant\",\n",
            "  \"annotations\": null,\n",
            "  \"audio\": null,\n",
            "  \"function_call\": null,\n",
            "  \"tool_calls\": null\n",
            "}\n",
            "\n"
          ]
        },
        {
          "output_type": "stream",
          "name": "stderr",
          "text": [
            "DEBUG:openai.agents:LLM resp:\n",
            "{\n",
            "  \"content\": \"The USD to PKR exchange rate has fluctuated between 280.01 and 281.90 in the past 30 days, with an average rate of 280.69.\\n\",\n",
            "  \"refusal\": null,\n",
            "  \"role\": \"assistant\",\n",
            "  \"annotations\": null,\n",
            "  \"audio\": null,\n",
            "  \"function_call\": null,\n",
            "  \"tool_calls\": null\n",
            "}\n",
            "\n"
          ]
        },
        {
          "output_type": "stream",
          "name": "stdout",
          "text": [
            "Resetting current trace\n",
            "Resetting current trace\n",
            "Resetting current trace\n"
          ]
        },
        {
          "output_type": "stream",
          "name": "stderr",
          "text": [
            "DEBUG:openai.agents:Resetting current trace\n"
          ]
        },
        {
          "output_type": "stream",
          "name": "stdout",
          "text": [
            "The USD to PKR exchange rate has fluctuated between 280.01 and 281.90 in the past 30 days, with an average rate of 280.69.\n",
            "\n"
          ]
        }
      ]
    },
    {
      "cell_type": "code",
      "source": [
        "import asyncio\n",
        "from agents import set_tracing_disabled,enable_verbose_stdout_logging\n",
        "set_tracing_disabled(True)\n",
        "\n",
        "enable_verbose_stdout_logging()\n",
        "async def main():\n",
        "  agent = Agent(\n",
        "      name = \"Assistant\",\n",
        "      instructions=\"Answer the user question\",\n",
        "      tools = [search_online],\n",
        "      model=model\n",
        "  )\n",
        "\n",
        "  result = await Runner.run(agent,\"Tell me the current usd to pkr currency rate\",run_config=config)\n",
        "  print(result.final_output)\n",
        "\n",
        "asyncio.run(main())"
      ],
      "metadata": {
        "colab": {
          "base_uri": "https://localhost:8080/"
        },
        "id": "jy_hH6JO9IB_",
        "outputId": "3978a7b2-f896-493e-a3ba-3cfe766e671b"
      },
      "execution_count": 57,
      "outputs": [
        {
          "output_type": "stream",
          "name": "stdout",
          "text": [
            "Tracing is disabled. Not creating trace Agent workflow\n",
            "Tracing is disabled. Not creating trace Agent workflow\n",
            "Tracing is disabled. Not creating trace Agent workflow\n"
          ]
        },
        {
          "output_type": "stream",
          "name": "stderr",
          "text": [
            "DEBUG:openai.agents:Tracing is disabled. Not creating trace Agent workflow\n"
          ]
        },
        {
          "output_type": "stream",
          "name": "stdout",
          "text": [
            "Setting current trace: no-op\n",
            "Setting current trace: no-op\n",
            "Setting current trace: no-op\n"
          ]
        },
        {
          "output_type": "stream",
          "name": "stderr",
          "text": [
            "DEBUG:openai.agents:Setting current trace: no-op\n"
          ]
        },
        {
          "output_type": "stream",
          "name": "stdout",
          "text": [
            "Tracing is disabled. Not creating span <agents.tracing.span_data.AgentSpanData object at 0x7a96d7608530>\n",
            "Tracing is disabled. Not creating span <agents.tracing.span_data.AgentSpanData object at 0x7a96d7608530>\n",
            "Tracing is disabled. Not creating span <agents.tracing.span_data.AgentSpanData object at 0x7a96d7608530>\n"
          ]
        },
        {
          "output_type": "stream",
          "name": "stderr",
          "text": [
            "DEBUG:openai.agents:Tracing is disabled. Not creating span <agents.tracing.span_data.AgentSpanData object at 0x7a96d7608530>\n"
          ]
        },
        {
          "output_type": "stream",
          "name": "stdout",
          "text": [
            "Running agent Assistant (turn 1)\n",
            "Running agent Assistant (turn 1)\n",
            "Running agent Assistant (turn 1)\n"
          ]
        },
        {
          "output_type": "stream",
          "name": "stderr",
          "text": [
            "DEBUG:openai.agents:Running agent Assistant (turn 1)\n"
          ]
        },
        {
          "output_type": "stream",
          "name": "stdout",
          "text": [
            "Tracing is disabled. Not creating span <agents.tracing.span_data.GenerationSpanData object at 0x7a96d7637ef0>\n",
            "Tracing is disabled. Not creating span <agents.tracing.span_data.GenerationSpanData object at 0x7a96d7637ef0>\n",
            "Tracing is disabled. Not creating span <agents.tracing.span_data.GenerationSpanData object at 0x7a96d7637ef0>\n"
          ]
        },
        {
          "output_type": "stream",
          "name": "stderr",
          "text": [
            "DEBUG:openai.agents:Tracing is disabled. Not creating span <agents.tracing.span_data.GenerationSpanData object at 0x7a96d7637ef0>\n"
          ]
        },
        {
          "output_type": "stream",
          "name": "stdout",
          "text": [
            "[\n",
            "  {\n",
            "    \"content\": \"Answer the user question\",\n",
            "    \"role\": \"system\"\n",
            "  },\n",
            "  {\n",
            "    \"role\": \"user\",\n",
            "    \"content\": \"Tell me the current usd to pkr currency rate\"\n",
            "  }\n",
            "]\n",
            "Tools:\n",
            "[\n",
            "  {\n",
            "    \"type\": \"function\",\n",
            "    \"function\": {\n",
            "      \"name\": \"search_online\",\n",
            "      \"description\": \"\",\n",
            "      \"parameters\": {\n",
            "        \"properties\": {\n",
            "          \"query\": {\n",
            "            \"title\": \"Query\",\n",
            "            \"type\": \"string\"\n",
            "          }\n",
            "        },\n",
            "        \"required\": [\n",
            "          \"query\"\n",
            "        ],\n",
            "        \"title\": \"search_online_args\",\n",
            "        \"type\": \"object\",\n",
            "        \"additionalProperties\": false\n",
            "      }\n",
            "    }\n",
            "  }\n",
            "]\n",
            "Stream: False\n",
            "Tool choice: NOT_GIVEN\n",
            "Response format: NOT_GIVEN\n",
            "\n",
            "[\n",
            "  {\n",
            "    \"content\": \"Answer the user question\",\n",
            "    \"role\": \"system\"\n",
            "  },\n",
            "  {\n",
            "    \"role\": \"user\",\n",
            "    \"content\": \"Tell me the current usd to pkr currency rate\"\n",
            "  }\n",
            "]\n",
            "Tools:\n",
            "[\n",
            "  {\n",
            "    \"type\": \"function\",\n",
            "    \"function\": {\n",
            "      \"name\": \"search_online\",\n",
            "      \"description\": \"\",\n",
            "      \"parameters\": {\n",
            "        \"properties\": {\n",
            "          \"query\": {\n",
            "            \"title\": \"Query\",\n",
            "            \"type\": \"string\"\n",
            "          }\n",
            "        },\n",
            "        \"required\": [\n",
            "          \"query\"\n",
            "        ],\n",
            "        \"title\": \"search_online_args\",\n",
            "        \"type\": \"object\",\n",
            "        \"additionalProperties\": false\n",
            "      }\n",
            "    }\n",
            "  }\n",
            "]\n",
            "Stream: False\n",
            "Tool choice: NOT_GIVEN\n",
            "Response format: NOT_GIVEN\n",
            "\n",
            "[\n",
            "  {\n",
            "    \"content\": \"Answer the user question\",\n",
            "    \"role\": \"system\"\n",
            "  },\n",
            "  {\n",
            "    \"role\": \"user\",\n",
            "    \"content\": \"Tell me the current usd to pkr currency rate\"\n",
            "  }\n",
            "]\n",
            "Tools:\n",
            "[\n",
            "  {\n",
            "    \"type\": \"function\",\n",
            "    \"function\": {\n",
            "      \"name\": \"search_online\",\n",
            "      \"description\": \"\",\n",
            "      \"parameters\": {\n",
            "        \"properties\": {\n",
            "          \"query\": {\n",
            "            \"title\": \"Query\",\n",
            "            \"type\": \"string\"\n",
            "          }\n",
            "        },\n",
            "        \"required\": [\n",
            "          \"query\"\n",
            "        ],\n",
            "        \"title\": \"search_online_args\",\n",
            "        \"type\": \"object\",\n",
            "        \"additionalProperties\": false\n",
            "      }\n",
            "    }\n",
            "  }\n",
            "]\n",
            "Stream: False\n",
            "Tool choice: NOT_GIVEN\n",
            "Response format: NOT_GIVEN\n",
            "\n"
          ]
        },
        {
          "output_type": "stream",
          "name": "stderr",
          "text": [
            "DEBUG:openai.agents:[\n",
            "  {\n",
            "    \"content\": \"Answer the user question\",\n",
            "    \"role\": \"system\"\n",
            "  },\n",
            "  {\n",
            "    \"role\": \"user\",\n",
            "    \"content\": \"Tell me the current usd to pkr currency rate\"\n",
            "  }\n",
            "]\n",
            "Tools:\n",
            "[\n",
            "  {\n",
            "    \"type\": \"function\",\n",
            "    \"function\": {\n",
            "      \"name\": \"search_online\",\n",
            "      \"description\": \"\",\n",
            "      \"parameters\": {\n",
            "        \"properties\": {\n",
            "          \"query\": {\n",
            "            \"title\": \"Query\",\n",
            "            \"type\": \"string\"\n",
            "          }\n",
            "        },\n",
            "        \"required\": [\n",
            "          \"query\"\n",
            "        ],\n",
            "        \"title\": \"search_online_args\",\n",
            "        \"type\": \"object\",\n",
            "        \"additionalProperties\": false\n",
            "      }\n",
            "    }\n",
            "  }\n",
            "]\n",
            "Stream: False\n",
            "Tool choice: NOT_GIVEN\n",
            "Response format: NOT_GIVEN\n",
            "\n"
          ]
        },
        {
          "output_type": "stream",
          "name": "stdout",
          "text": [
            "LLM resp:\n",
            "{\n",
            "  \"content\": null,\n",
            "  \"refusal\": null,\n",
            "  \"role\": \"assistant\",\n",
            "  \"annotations\": null,\n",
            "  \"audio\": null,\n",
            "  \"function_call\": null,\n",
            "  \"tool_calls\": [\n",
            "    {\n",
            "      \"id\": \"\",\n",
            "      \"function\": {\n",
            "        \"arguments\": \"{\\\"query\\\":\\\"usd to pkr exchange rate\\\"}\",\n",
            "        \"name\": \"search_online\"\n",
            "      },\n",
            "      \"type\": \"function\"\n",
            "    }\n",
            "  ]\n",
            "}\n",
            "\n",
            "LLM resp:\n",
            "{\n",
            "  \"content\": null,\n",
            "  \"refusal\": null,\n",
            "  \"role\": \"assistant\",\n",
            "  \"annotations\": null,\n",
            "  \"audio\": null,\n",
            "  \"function_call\": null,\n",
            "  \"tool_calls\": [\n",
            "    {\n",
            "      \"id\": \"\",\n",
            "      \"function\": {\n",
            "        \"arguments\": \"{\\\"query\\\":\\\"usd to pkr exchange rate\\\"}\",\n",
            "        \"name\": \"search_online\"\n",
            "      },\n",
            "      \"type\": \"function\"\n",
            "    }\n",
            "  ]\n",
            "}\n",
            "\n",
            "LLM resp:\n",
            "{\n",
            "  \"content\": null,\n",
            "  \"refusal\": null,\n",
            "  \"role\": \"assistant\",\n",
            "  \"annotations\": null,\n",
            "  \"audio\": null,\n",
            "  \"function_call\": null,\n",
            "  \"tool_calls\": [\n",
            "    {\n",
            "      \"id\": \"\",\n",
            "      \"function\": {\n",
            "        \"arguments\": \"{\\\"query\\\":\\\"usd to pkr exchange rate\\\"}\",\n",
            "        \"name\": \"search_online\"\n",
            "      },\n",
            "      \"type\": \"function\"\n",
            "    }\n",
            "  ]\n",
            "}\n",
            "\n"
          ]
        },
        {
          "output_type": "stream",
          "name": "stderr",
          "text": [
            "DEBUG:openai.agents:LLM resp:\n",
            "{\n",
            "  \"content\": null,\n",
            "  \"refusal\": null,\n",
            "  \"role\": \"assistant\",\n",
            "  \"annotations\": null,\n",
            "  \"audio\": null,\n",
            "  \"function_call\": null,\n",
            "  \"tool_calls\": [\n",
            "    {\n",
            "      \"id\": \"\",\n",
            "      \"function\": {\n",
            "        \"arguments\": \"{\\\"query\\\":\\\"usd to pkr exchange rate\\\"}\",\n",
            "        \"name\": \"search_online\"\n",
            "      },\n",
            "      \"type\": \"function\"\n",
            "    }\n",
            "  ]\n",
            "}\n",
            "\n"
          ]
        },
        {
          "output_type": "stream",
          "name": "stdout",
          "text": [
            "Tracing is disabled. Not creating span <agents.tracing.span_data.FunctionSpanData object at 0x7a96d7637ef0>\n",
            "Tracing is disabled. Not creating span <agents.tracing.span_data.FunctionSpanData object at 0x7a96d7637ef0>\n",
            "Tracing is disabled. Not creating span <agents.tracing.span_data.FunctionSpanData object at 0x7a96d7637ef0>\n"
          ]
        },
        {
          "output_type": "stream",
          "name": "stderr",
          "text": [
            "DEBUG:openai.agents:Tracing is disabled. Not creating span <agents.tracing.span_data.FunctionSpanData object at 0x7a96d7637ef0>\n"
          ]
        },
        {
          "output_type": "stream",
          "name": "stdout",
          "text": [
            "Invoking tool search_online with input {\"query\":\"usd to pkr exchange rate\"}\n",
            "Invoking tool search_online with input {\"query\":\"usd to pkr exchange rate\"}\n",
            "Invoking tool search_online with input {\"query\":\"usd to pkr exchange rate\"}\n"
          ]
        },
        {
          "output_type": "stream",
          "name": "stderr",
          "text": [
            "DEBUG:openai.agents:Invoking tool search_online with input {\"query\":\"usd to pkr exchange rate\"}\n"
          ]
        },
        {
          "output_type": "stream",
          "name": "stdout",
          "text": [
            "Tool call args: ['usd to pkr exchange rate'], kwargs: {}\n",
            "Tool call args: ['usd to pkr exchange rate'], kwargs: {}\n",
            "Tool call args: ['usd to pkr exchange rate'], kwargs: {}\n"
          ]
        },
        {
          "output_type": "stream",
          "name": "stderr",
          "text": [
            "DEBUG:openai.agents:Tool call args: ['usd to pkr exchange rate'], kwargs: {}\n"
          ]
        },
        {
          "output_type": "stream",
          "name": "stdout",
          "text": [
            "Tool search_online returned In the past 30 days, the USD to PKR exchange rate reached a high of 281.90 and a low of 280.01, with an average rate of 280.69. The overall change in this period was +0.57% . Over the last 90 days , the USD to PKR exchange rate peaked at 293.33 and dipped to a low of 278.82, averaging 280.24.\n",
            "Tool search_online returned In the past 30 days, the USD to PKR exchange rate reached a high of 281.90 and a low of 280.01, with an average rate of 280.69. The overall change in this period was +0.57% . Over the last 90 days , the USD to PKR exchange rate peaked at 293.33 and dipped to a low of 278.82, averaging 280.24.\n",
            "Tool search_online returned In the past 30 days, the USD to PKR exchange rate reached a high of 281.90 and a low of 280.01, with an average rate of 280.69. The overall change in this period was +0.57% . Over the last 90 days , the USD to PKR exchange rate peaked at 293.33 and dipped to a low of 278.82, averaging 280.24.\n"
          ]
        },
        {
          "output_type": "stream",
          "name": "stderr",
          "text": [
            "DEBUG:openai.agents:Tool search_online returned In the past 30 days, the USD to PKR exchange rate reached a high of 281.90 and a low of 280.01, with an average rate of 280.69. The overall change in this period was +0.57% . Over the last 90 days , the USD to PKR exchange rate peaked at 293.33 and dipped to a low of 278.82, averaging 280.24.\n"
          ]
        },
        {
          "output_type": "stream",
          "name": "stdout",
          "text": [
            "Running agent Assistant (turn 2)\n",
            "Running agent Assistant (turn 2)\n",
            "Running agent Assistant (turn 2)\n"
          ]
        },
        {
          "output_type": "stream",
          "name": "stderr",
          "text": [
            "DEBUG:openai.agents:Running agent Assistant (turn 2)\n"
          ]
        },
        {
          "output_type": "stream",
          "name": "stdout",
          "text": [
            "Tracing is disabled. Not creating span <agents.tracing.span_data.GenerationSpanData object at 0x7a96d7609df0>\n",
            "Tracing is disabled. Not creating span <agents.tracing.span_data.GenerationSpanData object at 0x7a96d7609df0>\n",
            "Tracing is disabled. Not creating span <agents.tracing.span_data.GenerationSpanData object at 0x7a96d7609df0>\n"
          ]
        },
        {
          "output_type": "stream",
          "name": "stderr",
          "text": [
            "DEBUG:openai.agents:Tracing is disabled. Not creating span <agents.tracing.span_data.GenerationSpanData object at 0x7a96d7609df0>\n"
          ]
        },
        {
          "output_type": "stream",
          "name": "stdout",
          "text": [
            "[\n",
            "  {\n",
            "    \"content\": \"Answer the user question\",\n",
            "    \"role\": \"system\"\n",
            "  },\n",
            "  {\n",
            "    \"role\": \"user\",\n",
            "    \"content\": \"Tell me the current usd to pkr currency rate\"\n",
            "  },\n",
            "  {\n",
            "    \"role\": \"assistant\",\n",
            "    \"tool_calls\": [\n",
            "      {\n",
            "        \"id\": \"\",\n",
            "        \"type\": \"function\",\n",
            "        \"function\": {\n",
            "          \"name\": \"search_online\",\n",
            "          \"arguments\": \"{\\\"query\\\":\\\"usd to pkr exchange rate\\\"}\"\n",
            "        }\n",
            "      }\n",
            "    ]\n",
            "  },\n",
            "  {\n",
            "    \"role\": \"tool\",\n",
            "    \"tool_call_id\": \"\",\n",
            "    \"content\": \"In the past 30 days, the USD to PKR exchange rate reached a high of 281.90 and a low of 280.01, with an average rate of 280.69. The overall change in this period was +0.57% . Over the last 90 days , the USD to PKR exchange rate peaked at 293.33 and dipped to a low of 278.82, averaging 280.24.\"\n",
            "  }\n",
            "]\n",
            "Tools:\n",
            "[\n",
            "  {\n",
            "    \"type\": \"function\",\n",
            "    \"function\": {\n",
            "      \"name\": \"search_online\",\n",
            "      \"description\": \"\",\n",
            "      \"parameters\": {\n",
            "        \"properties\": {\n",
            "          \"query\": {\n",
            "            \"title\": \"Query\",\n",
            "            \"type\": \"string\"\n",
            "          }\n",
            "        },\n",
            "        \"required\": [\n",
            "          \"query\"\n",
            "        ],\n",
            "        \"title\": \"search_online_args\",\n",
            "        \"type\": \"object\",\n",
            "        \"additionalProperties\": false\n",
            "      }\n",
            "    }\n",
            "  }\n",
            "]\n",
            "Stream: False\n",
            "Tool choice: NOT_GIVEN\n",
            "Response format: NOT_GIVEN\n",
            "\n",
            "[\n",
            "  {\n",
            "    \"content\": \"Answer the user question\",\n",
            "    \"role\": \"system\"\n",
            "  },\n",
            "  {\n",
            "    \"role\": \"user\",\n",
            "    \"content\": \"Tell me the current usd to pkr currency rate\"\n",
            "  },\n",
            "  {\n",
            "    \"role\": \"assistant\",\n",
            "    \"tool_calls\": [\n",
            "      {\n",
            "        \"id\": \"\",\n",
            "        \"type\": \"function\",\n",
            "        \"function\": {\n",
            "          \"name\": \"search_online\",\n",
            "          \"arguments\": \"{\\\"query\\\":\\\"usd to pkr exchange rate\\\"}\"\n",
            "        }\n",
            "      }\n",
            "    ]\n",
            "  },\n",
            "  {\n",
            "    \"role\": \"tool\",\n",
            "    \"tool_call_id\": \"\",\n",
            "    \"content\": \"In the past 30 days, the USD to PKR exchange rate reached a high of 281.90 and a low of 280.01, with an average rate of 280.69. The overall change in this period was +0.57% . Over the last 90 days , the USD to PKR exchange rate peaked at 293.33 and dipped to a low of 278.82, averaging 280.24.\"\n",
            "  }\n",
            "]\n",
            "Tools:\n",
            "[\n",
            "  {\n",
            "    \"type\": \"function\",\n",
            "    \"function\": {\n",
            "      \"name\": \"search_online\",\n",
            "      \"description\": \"\",\n",
            "      \"parameters\": {\n",
            "        \"properties\": {\n",
            "          \"query\": {\n",
            "            \"title\": \"Query\",\n",
            "            \"type\": \"string\"\n",
            "          }\n",
            "        },\n",
            "        \"required\": [\n",
            "          \"query\"\n",
            "        ],\n",
            "        \"title\": \"search_online_args\",\n",
            "        \"type\": \"object\",\n",
            "        \"additionalProperties\": false\n",
            "      }\n",
            "    }\n",
            "  }\n",
            "]\n",
            "Stream: False\n",
            "Tool choice: NOT_GIVEN\n",
            "Response format: NOT_GIVEN\n",
            "\n",
            "[\n",
            "  {\n",
            "    \"content\": \"Answer the user question\",\n",
            "    \"role\": \"system\"\n",
            "  },\n",
            "  {\n",
            "    \"role\": \"user\",\n",
            "    \"content\": \"Tell me the current usd to pkr currency rate\"\n",
            "  },\n",
            "  {\n",
            "    \"role\": \"assistant\",\n",
            "    \"tool_calls\": [\n",
            "      {\n",
            "        \"id\": \"\",\n",
            "        \"type\": \"function\",\n",
            "        \"function\": {\n",
            "          \"name\": \"search_online\",\n",
            "          \"arguments\": \"{\\\"query\\\":\\\"usd to pkr exchange rate\\\"}\"\n",
            "        }\n",
            "      }\n",
            "    ]\n",
            "  },\n",
            "  {\n",
            "    \"role\": \"tool\",\n",
            "    \"tool_call_id\": \"\",\n",
            "    \"content\": \"In the past 30 days, the USD to PKR exchange rate reached a high of 281.90 and a low of 280.01, with an average rate of 280.69. The overall change in this period was +0.57% . Over the last 90 days , the USD to PKR exchange rate peaked at 293.33 and dipped to a low of 278.82, averaging 280.24.\"\n",
            "  }\n",
            "]\n",
            "Tools:\n",
            "[\n",
            "  {\n",
            "    \"type\": \"function\",\n",
            "    \"function\": {\n",
            "      \"name\": \"search_online\",\n",
            "      \"description\": \"\",\n",
            "      \"parameters\": {\n",
            "        \"properties\": {\n",
            "          \"query\": {\n",
            "            \"title\": \"Query\",\n",
            "            \"type\": \"string\"\n",
            "          }\n",
            "        },\n",
            "        \"required\": [\n",
            "          \"query\"\n",
            "        ],\n",
            "        \"title\": \"search_online_args\",\n",
            "        \"type\": \"object\",\n",
            "        \"additionalProperties\": false\n",
            "      }\n",
            "    }\n",
            "  }\n",
            "]\n",
            "Stream: False\n",
            "Tool choice: NOT_GIVEN\n",
            "Response format: NOT_GIVEN\n",
            "\n"
          ]
        },
        {
          "output_type": "stream",
          "name": "stderr",
          "text": [
            "DEBUG:openai.agents:[\n",
            "  {\n",
            "    \"content\": \"Answer the user question\",\n",
            "    \"role\": \"system\"\n",
            "  },\n",
            "  {\n",
            "    \"role\": \"user\",\n",
            "    \"content\": \"Tell me the current usd to pkr currency rate\"\n",
            "  },\n",
            "  {\n",
            "    \"role\": \"assistant\",\n",
            "    \"tool_calls\": [\n",
            "      {\n",
            "        \"id\": \"\",\n",
            "        \"type\": \"function\",\n",
            "        \"function\": {\n",
            "          \"name\": \"search_online\",\n",
            "          \"arguments\": \"{\\\"query\\\":\\\"usd to pkr exchange rate\\\"}\"\n",
            "        }\n",
            "      }\n",
            "    ]\n",
            "  },\n",
            "  {\n",
            "    \"role\": \"tool\",\n",
            "    \"tool_call_id\": \"\",\n",
            "    \"content\": \"In the past 30 days, the USD to PKR exchange rate reached a high of 281.90 and a low of 280.01, with an average rate of 280.69. The overall change in this period was +0.57% . Over the last 90 days , the USD to PKR exchange rate peaked at 293.33 and dipped to a low of 278.82, averaging 280.24.\"\n",
            "  }\n",
            "]\n",
            "Tools:\n",
            "[\n",
            "  {\n",
            "    \"type\": \"function\",\n",
            "    \"function\": {\n",
            "      \"name\": \"search_online\",\n",
            "      \"description\": \"\",\n",
            "      \"parameters\": {\n",
            "        \"properties\": {\n",
            "          \"query\": {\n",
            "            \"title\": \"Query\",\n",
            "            \"type\": \"string\"\n",
            "          }\n",
            "        },\n",
            "        \"required\": [\n",
            "          \"query\"\n",
            "        ],\n",
            "        \"title\": \"search_online_args\",\n",
            "        \"type\": \"object\",\n",
            "        \"additionalProperties\": false\n",
            "      }\n",
            "    }\n",
            "  }\n",
            "]\n",
            "Stream: False\n",
            "Tool choice: NOT_GIVEN\n",
            "Response format: NOT_GIVEN\n",
            "\n"
          ]
        },
        {
          "output_type": "stream",
          "name": "stdout",
          "text": [
            "LLM resp:\n",
            "{\n",
            "  \"content\": \"The USD to PKR exchange rate has fluctuated between 280.01 and 281.90 in the past 30 days, with an average rate of 280.69.\\n\",\n",
            "  \"refusal\": null,\n",
            "  \"role\": \"assistant\",\n",
            "  \"annotations\": null,\n",
            "  \"audio\": null,\n",
            "  \"function_call\": null,\n",
            "  \"tool_calls\": null\n",
            "}\n",
            "\n",
            "LLM resp:\n",
            "{\n",
            "  \"content\": \"The USD to PKR exchange rate has fluctuated between 280.01 and 281.90 in the past 30 days, with an average rate of 280.69.\\n\",\n",
            "  \"refusal\": null,\n",
            "  \"role\": \"assistant\",\n",
            "  \"annotations\": null,\n",
            "  \"audio\": null,\n",
            "  \"function_call\": null,\n",
            "  \"tool_calls\": null\n",
            "}\n",
            "\n",
            "LLM resp:\n",
            "{\n",
            "  \"content\": \"The USD to PKR exchange rate has fluctuated between 280.01 and 281.90 in the past 30 days, with an average rate of 280.69.\\n\",\n",
            "  \"refusal\": null,\n",
            "  \"role\": \"assistant\",\n",
            "  \"annotations\": null,\n",
            "  \"audio\": null,\n",
            "  \"function_call\": null,\n",
            "  \"tool_calls\": null\n",
            "}\n",
            "\n"
          ]
        },
        {
          "output_type": "stream",
          "name": "stderr",
          "text": [
            "DEBUG:openai.agents:LLM resp:\n",
            "{\n",
            "  \"content\": \"The USD to PKR exchange rate has fluctuated between 280.01 and 281.90 in the past 30 days, with an average rate of 280.69.\\n\",\n",
            "  \"refusal\": null,\n",
            "  \"role\": \"assistant\",\n",
            "  \"annotations\": null,\n",
            "  \"audio\": null,\n",
            "  \"function_call\": null,\n",
            "  \"tool_calls\": null\n",
            "}\n",
            "\n"
          ]
        },
        {
          "output_type": "stream",
          "name": "stdout",
          "text": [
            "Resetting current trace\n",
            "Resetting current trace\n",
            "Resetting current trace\n"
          ]
        },
        {
          "output_type": "stream",
          "name": "stderr",
          "text": [
            "DEBUG:openai.agents:Resetting current trace\n"
          ]
        },
        {
          "output_type": "stream",
          "name": "stdout",
          "text": [
            "The USD to PKR exchange rate has fluctuated between 280.01 and 281.90 in the past 30 days, with an average rate of 280.69.\n",
            "\n"
          ]
        }
      ]
    },
    {
      "cell_type": "code",
      "source": [],
      "metadata": {
        "id": "Wfcx2Fp495lW"
      },
      "execution_count": null,
      "outputs": []
    }
  ],
  "metadata": {
    "language_info": {
      "name": "python"
    },
    "colab": {
      "provenance": []
    },
    "kernelspec": {
      "name": "python3",
      "display_name": "Python 3"
    }
  },
  "nbformat": 4,
  "nbformat_minor": 0
}
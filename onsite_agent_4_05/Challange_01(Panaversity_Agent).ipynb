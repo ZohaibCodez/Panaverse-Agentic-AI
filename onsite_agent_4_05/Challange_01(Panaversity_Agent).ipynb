{
  "cells": [
    {
      "cell_type": "markdown",
      "metadata": {
        "id": "view-in-github",
        "colab_type": "text"
      },
      "source": [
        "<a href=\"https://colab.research.google.com/github/ZohaibCodez/Panaverse-Agentic-AI/blob/master/onsite_agent_4_05/Challange_01(Panaversity_Agent).ipynb\" target=\"_parent\"><img src=\"https://colab.research.google.com/assets/colab-badge.svg\" alt=\"Open In Colab\"/></a>"
      ]
    },
    {
      "cell_type": "code",
      "source": [
        "!pip install -Uq openai-agents"
      ],
      "metadata": {
        "id": "Z4gr5krB1oV6"
      },
      "execution_count": null,
      "outputs": []
    },
    {
      "cell_type": "code",
      "source": [
        "import nest_asyncio\n",
        "nest_asyncio.apply()"
      ],
      "metadata": {
        "id": "r-Qncfz167zs"
      },
      "execution_count": null,
      "outputs": []
    },
    {
      "cell_type": "code",
      "source": [
        "from agents import Agent,Runner,AsyncOpenAI,OpenAIChatCompletionsModel,set_tracing_disabled\n",
        "from google.colab import userdata\n",
        "\n",
        "set_tracing_disabled = True\n",
        "\n",
        "external_client =AsyncOpenAI(\n",
        "    api_key = userdata.get('GEMINI_API_KEY'),\n",
        "    base_url=\"https://generativelanguage.googleapis.com/v1beta/openai/\"\n",
        ")\n",
        "\n",
        "model = OpenAIChatCompletionsModel(\n",
        "    openai_client=external_client,\n",
        "    model=\"gemini-2.0-flash\"\n",
        ")"
      ],
      "metadata": {
        "id": "JUxwlbE53XRp"
      },
      "execution_count": null,
      "outputs": []
    },
    {
      "cell_type": "code",
      "source": [
        "panacloud_instructions=\"\"\"You are the Panacloud Triage Agent for Panacloud University. Your role is to assist users by assessing their queries related to Web Development, Mobile Development, or Agentic AI, and routing them to the appropriate specialized agent.\n",
        "\n",
        "**Guidelines for Interaction:**\n",
        "\n",
        "1. **Scope of Assistance:**\n",
        "   - You can only assist with queries related to Web Development, Mobile Development, or Agentic AI.\n",
        "   - For queries outside this scope, politely inform the user and direct them to the appropriate university resources.\n",
        "\n",
        "2. **Handling User Queries:**\n",
        "   - Analyze the query to identify keywords or phrases indicating the relevant domain:\n",
        "     - **Web Dev**: Terms like \"websites,\" \"front-end,\" \"back-end,\" \"React,\" \"Angular,\" \"HTML,\" \"CSS,\" \"JavaScript,\" etc.\n",
        "     - **Mobile Dev**: Terms like \"mobile apps,\" \"iOS,\" \"Android,\" \"Swift,\" \"Kotlin,\" \"React Native,\" \"Flutter,\" etc.\n",
        "     - **Agentic AI**: Terms like \"AI agents,\" \"machine learning,\" \"deep learning,\" \"NLP,\" \"reinforcement learning,\" etc.\n",
        "   - If the query is ambiguous, ask clarifying questions to determine the category.\n",
        "   - If the query is outside the scope, politely inform the user and provide alternative contact information.\n",
        "\n",
        "3. **Handoff Mechanism:**\n",
        "   - Once the category is determined, inform the user that they will be transferred to the specialized agent.\n",
        "   - Provide a brief explanation for the transfer (e.g., \"Your query is about Web Development, so I'm connecting you to our Web Dev specialist.\").\n",
        "   - Initiate the handoff to the appropriate agent without requiring the user to repeat their query.\n",
        "\n",
        "4. **Presenting Results:**\n",
        "   - If the user needs information before handoff, provide a brief summary or clarification.\n",
        "   - Ensure the user understands the next steps and feels supported.\n",
        "\n",
        "5. **Error Handling:**\n",
        "   - If unable to determine the category after clarification, offer alternative support options.\n",
        "   - If a technical issue occurs during handoff, inform the user and provide a way to contact support directly.\n",
        "\n",
        "6. **Conversation Context:**\n",
        "   - Maintain context from previous interactions to handle follow-up questions effectively.\n",
        "   - Use the conversation history to understand references to earlier topics or results.\n",
        "\n",
        "7. **User Guidance:**\n",
        "   - If the user seems unsure about what to ask, provide examples of queries that you can handle, such as 'How do I build a website using React?' or 'What's the best way to develop an Android app?'\n",
        "\n",
        "**Additional Instructions:**\n",
        "- Be polite, helpful, and professional in all interactions.\n",
        "- Do not attempt to answer queries unrelated to Web Development, Mobile Development, or Agentic AI using general knowledge; stay within the defined scope.\n",
        "\n",
        "**Remember:** Your capabilities are limited to assisting with queries related to Web Development, Mobile Development, or Agentic AI by routing them to the appropriate specialized agent.\"\"\""
      ],
      "metadata": {
        "id": "PlS3XDeP5wpM"
      },
      "execution_count": null,
      "outputs": []
    },
    {
      "cell_type": "code",
      "source": [
        "panacloud_agent = Agent(\n",
        "    name=\"panacloud\",\n",
        "    instructions = panacloud_instructions,\n",
        "    model=model,\n",
        "    )"
      ],
      "metadata": {
        "id": "zacpnlDp4PHA"
      },
      "execution_count": null,
      "outputs": []
    },
    {
      "cell_type": "code",
      "source": [
        "from IPython.display import Markdown\n",
        "response = Runner.run_sync(starting_agent= panacloud_agent,input=\"Hi\")\n",
        "display(Markdown(response.final_output))"
      ],
      "metadata": {
        "colab": {
          "base_uri": "https://localhost:8080/",
          "height": 46
        },
        "id": "RBtE-VXT6oIG",
        "outputId": "d3cd6e75-3531-490d-fd7a-e86455645611"
      },
      "execution_count": null,
      "outputs": [
        {
          "output_type": "display_data",
          "data": {
            "text/plain": [
              "<IPython.core.display.Markdown object>"
            ],
            "text/markdown": "Hello! How can I assist you today? Are you looking for information on Web Development, Mobile Development, or Agentic AI?\n"
          },
          "metadata": {}
        }
      ]
    },
    {
      "cell_type": "code",
      "source": [
        "webdev_agent_instructions=\"\"\"You are the Web Dev Agent, specialized in assisting users with queries related to web development. Your primary function is to provide accurate, clear, and helpful information on web development topics, including but not limited to front-end, back-end, frameworks, languages, and best practices.\n",
        "\n",
        "**Guidelines for Interaction:**\n",
        "\n",
        "1. **Scope of Assistance:**\n",
        "   - You can assist with queries related to web development, including:\n",
        "     - Front-end technologies (e.g., HTML, CSS, JavaScript, React, Angular, Vue.js)\n",
        "     - Back-end technologies (e.g., Node.js, Express, Django, Ruby on Rails, databases)\n",
        "     - Web development frameworks and libraries\n",
        "     - Best practices, design patterns, and development methodologies\n",
        "     - Troubleshooting and debugging web applications\n",
        "   - For queries outside this scope, politely inform the user that you cannot help with that and suggest they consult the appropriate resources or agents.\n",
        "\n",
        "2. **Handling User Queries:**\n",
        "   - For simple queries, provide direct and concise answers.\n",
        "   - For complex queries, break down the information into manageable parts, offer step-by-step guidance, or provide resources for further learning.\n",
        "   - If a query is ambiguous, ask clarifying questions to better understand the user's needs.\n",
        "   - If a query is too broad, suggest narrowing it down or provide an overview with options for deeper exploration.\n",
        "\n",
        "3. **Providing Information:**\n",
        "   - Use clear and accessible language, avoiding jargon unless necessary, and explain technical terms when used.\n",
        "   - Offer examples, code snippets, or analogies to illustrate concepts when appropriate.\n",
        "   - Reference reliable sources or documentation when providing information, especially for best practices or standards.\n",
        "\n",
        "4. **Presenting Results:**\n",
        "   - Organize information logically, using bullet points, numbered lists, or sections for clarity.\n",
        "   - Highlight key points or takeaways to ensure the user grasps the essential information.\n",
        "   - If multiple solutions or approaches are possible, present them with pros and cons to help the user make informed decisions.\n",
        "\n",
        "5. **Error Handling:**\n",
        "   - If unable to provide a satisfactory answer, suggest alternative resources or encourage the user to rephrase their query.\n",
        "   - If a query is outside your expertise, inform the user and offer to connect them with a general support agent or provide relevant contact information.\n",
        "\n",
        "6. **Conversation Context:**\n",
        "   - Maintain context from previous interactions to handle follow-up questions effectively.\n",
        "   - Use the conversation history to understand references to earlier topics or results.\n",
        "\n",
        "7. **User Guidance:**\n",
        "   - If the user seems unsure about what to ask, provide examples of common web development queries, such as 'How do I center a div in CSS?' or 'What is the difference between GET and POST requests?'\n",
        "   - Encourage users to explore related topics or resources for a deeper understanding.\n",
        "\n",
        "**Additional Instructions:**\n",
        "- Be polite, helpful, and professional in all interactions.\n",
        "- Do not attempt to answer queries unrelated to web development using general knowledge; stay within the defined scope.\n",
        "\n",
        "**Remember:** Your capabilities are limited to assisting with queries related to web development. For other topics, direct the user to the appropriate resources or agents.\"\"\""
      ],
      "metadata": {
        "id": "3zS5Inuj62Mb"
      },
      "execution_count": null,
      "outputs": []
    },
    {
      "cell_type": "code",
      "source": [
        "webdev_agent = Agent(\n",
        "    name=\"Web Dev Agent\",\n",
        "    instructions = webdev_agent_instructions,\n",
        "    model=model,\n",
        "    handoff_description=\"You are the Web Dev Agent, specialized in assisting users with queries related to web development. Your primary function is to provide accurate, clear, and helpful information on web development topics, including but not limited to front-end, back-end, frameworks, languages, and best practices.\"\n",
        "    )"
      ],
      "metadata": {
        "id": "nt9I--YP-dvO"
      },
      "execution_count": null,
      "outputs": []
    }
  ],
  "metadata": {
    "language_info": {
      "name": "python"
    },
    "colab": {
      "provenance": [],
      "include_colab_link": true
    },
    "kernelspec": {
      "name": "python3",
      "display_name": "Python 3"
    }
  },
  "nbformat": 4,
  "nbformat_minor": 0
}
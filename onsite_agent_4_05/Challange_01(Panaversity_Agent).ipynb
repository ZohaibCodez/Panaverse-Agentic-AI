{
  "cells": [
    {
      "cell_type": "markdown",
      "metadata": {
        "id": "view-in-github",
        "colab_type": "text"
      },
      "source": [
        "<a href=\"https://colab.research.google.com/github/ZohaibCodez/Panaverse-Agentic-AI/blob/master/onsite_agent_4_05/Challange_01(Panaversity_Agent).ipynb\" target=\"_parent\"><img src=\"https://colab.research.google.com/assets/colab-badge.svg\" alt=\"Open In Colab\"/></a>"
      ]
    },
    {
      "cell_type": "code",
      "source": [
        "!pip install -Uq openai-agents"
      ],
      "metadata": {
        "id": "Z4gr5krB1oV6"
      },
      "execution_count": 13,
      "outputs": []
    },
    {
      "cell_type": "code",
      "source": [
        "import nest_asyncio\n",
        "nest_asyncio.apply()"
      ],
      "metadata": {
        "id": "r-Qncfz167zs"
      },
      "execution_count": 14,
      "outputs": []
    },
    {
      "cell_type": "code",
      "source": [
        "from agents import Agent,Runner,AsyncOpenAI,OpenAIChatCompletionsModel,set_tracing_disabled\n",
        "from google.colab import userdata\n",
        "\n",
        "set_tracing_disabled = True\n",
        "\n",
        "external_client =AsyncOpenAI(\n",
        "    api_key = userdata.get('GEMINI_API_KEY'),\n",
        "    base_url=\"https://generativelanguage.googleapis.com/v1beta/openai/\"\n",
        ")\n",
        "\n",
        "model = OpenAIChatCompletionsModel(\n",
        "    openai_client=external_client,\n",
        "    model=\"gemini-2.0-flash\"\n",
        ")"
      ],
      "metadata": {
        "id": "JUxwlbE53XRp"
      },
      "execution_count": 15,
      "outputs": []
    },
    {
      "cell_type": "code",
      "source": [
        "panacloud_instructions=\"\"\"You are the Panacloud Triage Agent for Panacloud University. Your role is to assist users by assessing their queries related to Web Development, Mobile Development, or Agentic AI, and routing them to the appropriate specialized agent.\n",
        "\n",
        "**Guidelines for Interaction:**\n",
        "\n",
        "1. **Scope of Assistance:**\n",
        "   - You can only assist with queries related to Web Development, Mobile Development, or Agentic AI.\n",
        "   - For queries outside this scope, politely inform the user and direct them to the appropriate university resources.\n",
        "\n",
        "2. **Handling User Queries:**\n",
        "   - Analyze the query to identify keywords or phrases indicating the relevant domain:\n",
        "     - **Web Dev**: Terms like \"websites,\" \"front-end,\" \"back-end,\" \"React,\" \"Angular,\" \"HTML,\" \"CSS,\" \"JavaScript,\" etc.\n",
        "     - **Mobile Dev**: Terms like \"mobile apps,\" \"iOS,\" \"Android,\" \"Swift,\" \"Kotlin,\" \"React Native,\" \"Flutter,\" etc.\n",
        "     - **Agentic AI**: Terms like \"AI agents,\" \"machine learning,\" \"deep learning,\" \"NLP,\" \"reinforcement learning,\" etc.\n",
        "   - If the query is ambiguous, ask clarifying questions to determine the category.\n",
        "   - If the query is outside the scope, politely inform the user and provide alternative contact information.\n",
        "\n",
        "3. **Handoff Mechanism:**\n",
        "   - Once the category is determined, inform the user that they will be transferred to the specialized agent.\n",
        "   - Provide a brief explanation for the transfer (e.g., \"Your query is about Web Development, so I'm connecting you to our Web Dev specialist.\").\n",
        "   - Initiate the handoff to the appropriate agent without requiring the user to repeat their query.\n",
        "\n",
        "4. **Presenting Results:**\n",
        "   - If the user needs information before handoff, provide a brief summary or clarification.\n",
        "   - Ensure the user understands the next steps and feels supported.\n",
        "\n",
        "5. **Error Handling:**\n",
        "   - If unable to determine the category after clarification, offer alternative support options.\n",
        "   - If a technical issue occurs during handoff, inform the user and provide a way to contact support directly.\n",
        "\n",
        "6. **Conversation Context:**\n",
        "   - Maintain context from previous interactions to handle follow-up questions effectively.\n",
        "   - Use the conversation history to understand references to earlier topics or results.\n",
        "\n",
        "7. **User Guidance:**\n",
        "   - If the user seems unsure about what to ask, provide examples of queries that you can handle, such as 'How do I build a website using React?' or 'What's the best way to develop an Android app?'\n",
        "\n",
        "**Additional Instructions:**\n",
        "- Be polite, helpful, and professional in all interactions.\n",
        "- Do not attempt to answer queries unrelated to Web Development, Mobile Development, or Agentic AI using general knowledge; stay within the defined scope.\n",
        "\n",
        "**Remember:** Your capabilities are limited to assisting with queries related to Web Development, Mobile Development, or Agentic AI by routing them to the appropriate specialized agent.\"\"\""
      ],
      "metadata": {
        "id": "PlS3XDeP5wpM"
      },
      "execution_count": 16,
      "outputs": []
    },
    {
      "cell_type": "code",
      "source": [
        "panacloud_agent = Agent(\n",
        "    name=\"Panacloud Supervisor\",\n",
        "    instructions = panacloud_instructions,\n",
        "    handoffs=[webdev_agent,mobiledev_agent,agenticdev_agent],\n",
        "    model=model,\n",
        "    )"
      ],
      "metadata": {
        "id": "zacpnlDp4PHA"
      },
      "execution_count": 44,
      "outputs": []
    },
    {
      "cell_type": "code",
      "source": [
        "from IPython.display import Markdown\n",
        "response = Runner.run_sync(starting_agent= panacloud_agent,input=\"Hi\")\n",
        "display(Markdown(response.final_output))"
      ],
      "metadata": {
        "colab": {
          "base_uri": "https://localhost:8080/",
          "height": 46
        },
        "id": "RBtE-VXT6oIG",
        "outputId": "7529afce-0ba6-4682-ab1b-7d7c6e3c7e37"
      },
      "execution_count": 45,
      "outputs": [
        {
          "output_type": "display_data",
          "data": {
            "text/plain": [
              "<IPython.core.display.Markdown object>"
            ],
            "text/markdown": "Hi there! How can I help you today? Are you interested in Web Development, Mobile Development, or Agentic AI?\n"
          },
          "metadata": {}
        }
      ]
    },
    {
      "cell_type": "code",
      "source": [
        "webdev_agent_instructions=\"\"\"You are the Web Dev Agent, specialized in assisting users with queries related to web development. Your primary function is to provide accurate, clear, and helpful information on web development topics, including but not limited to front-end, back-end, frameworks, languages, and best practices.\n",
        "\n",
        "**Guidelines for Interaction:**\n",
        "\n",
        "1. **Scope of Assistance:**\n",
        "   - You can assist with queries related to web development, including:\n",
        "     - Front-end technologies (e.g., HTML, CSS, JavaScript, React, Angular, Vue.js)\n",
        "     - Back-end technologies (e.g., Node.js, Express, Django, Ruby on Rails, databases)\n",
        "     - Web development frameworks and libraries\n",
        "     - Best practices, design patterns, and development methodologies\n",
        "     - Troubleshooting and debugging web applications\n",
        "   - For queries outside this scope, politely inform the user that you cannot help with that and suggest they consult the appropriate resources or agents.\n",
        "\n",
        "2. **Handling User Queries:**\n",
        "   - For simple queries, provide direct and concise answers.\n",
        "   - For complex queries, break down the information into manageable parts, offer step-by-step guidance, or provide resources for further learning.\n",
        "   - If a query is ambiguous, ask clarifying questions to better understand the user's needs.\n",
        "   - If a query is too broad, suggest narrowing it down or provide an overview with options for deeper exploration.\n",
        "\n",
        "3. **Providing Information:**\n",
        "   - Use clear and accessible language, avoiding jargon unless necessary, and explain technical terms when used.\n",
        "   - Offer examples, code snippets, or analogies to illustrate concepts when appropriate.\n",
        "   - Reference reliable sources or documentation when providing information, especially for best practices or standards.\n",
        "\n",
        "4. **Presenting Results:**\n",
        "   - Organize information logically, using bullet points, numbered lists, or sections for clarity.\n",
        "   - Highlight key points or takeaways to ensure the user grasps the essential information.\n",
        "   - If multiple solutions or approaches are possible, present them with pros and cons to help the user make informed decisions.\n",
        "\n",
        "5. **Error Handling:**\n",
        "   - If unable to provide a satisfactory answer, suggest alternative resources or encourage the user to rephrase their query.\n",
        "   - If a query is outside your expertise, inform the user and offer to connect them with a general support agent or provide relevant contact information.\n",
        "\n",
        "6. **Conversation Context:**\n",
        "   - Maintain context from previous interactions to handle follow-up questions effectively.\n",
        "   - Use the conversation history to understand references to earlier topics or results.\n",
        "\n",
        "7. **User Guidance:**\n",
        "   - If the user seems unsure about what to ask, provide examples of common web development queries, such as 'How do I center a div in CSS?' or 'What is the difference between GET and POST requests?'\n",
        "   - Encourage users to explore related topics or resources for a deeper understanding.\n",
        "\n",
        "**Additional Instructions:**\n",
        "- Be polite, helpful, and professional in all interactions.\n",
        "- Do not attempt to answer queries unrelated to web development using general knowledge; stay within the defined scope.\n",
        "\n",
        "**Remember:** Your capabilities are limited to assisting with queries related to web development. For other topics, direct the user to the appropriate resources or agents.\"\"\""
      ],
      "metadata": {
        "id": "3zS5Inuj62Mb"
      },
      "execution_count": 46,
      "outputs": []
    },
    {
      "cell_type": "code",
      "source": [
        "webdev_agent = Agent(\n",
        "    name=\"Web App Developer\",\n",
        "    instructions = webdev_agent_instructions,\n",
        "    model=model,\n",
        "    handoff_description=\"You are the Web Dev Agent, specialized in assisting users with queries related to web development. Your primary function is to provide accurate, clear, and helpful information on web development topics, including but not limited to front-end, back-end, frameworks, languages, and best practices.\"\n",
        "    )"
      ],
      "metadata": {
        "id": "nt9I--YP-dvO"
      },
      "execution_count": 47,
      "outputs": []
    },
    {
      "cell_type": "code",
      "source": [
        "mobiledev_agent_instructions=\"\"\"\n",
        "You are the Mobile Dev Agent, specialized in assisting users with queries related to mobile application development. Your primary function is to provide accurate, clear, and helpful information on mobile development topics, including but not limited to iOS, Android, cross-platform frameworks, and best practices.\n",
        "\n",
        "**Guidelines for Interaction:**\n",
        "\n",
        "1. **Scope of Assistance:**\n",
        "   - You can assist with queries related to mobile application development, including:\n",
        "     - Native development (e.g., Swift, Objective-C for iOS; Kotlin, Java for Android)\n",
        "     - Cross-platform frameworks (e.g., React Native, Flutter, Xamarin)\n",
        "     - Mobile app design, UI/UX principles, and prototyping\n",
        "     - Backend integration, APIs, and databases for mobile apps\n",
        "     - Testing, debugging, and deployment of mobile applications\n",
        "   - For queries outside this scope, politely inform the user that you cannot help with that and suggest they consult the appropriate resources or agents.\n",
        "\n",
        "2. **Handling User Queries:**\n",
        "   - For simple queries, provide direct and concise answers.\n",
        "   - For complex queries, break down the information into manageable parts, offer step-by-step guidance, or provide resources for further learning.\n",
        "   - If a query is ambiguous, ask clarifying questions to better understand the user's needs.\n",
        "   - If a query is too broad, suggest narrowing it down or provide an overview with options for deeper exploration.\n",
        "\n",
        "3. **Providing Information:**\n",
        "   - Use clear and accessible language, avoiding jargon unless necessary, and explain technical terms when used.\n",
        "   - Offer examples, code snippets, or analogies to illustrate concepts when appropriate.\n",
        "   - Reference reliable sources or documentation when providing information, especially for platform-specific guidelines or best practices.\n",
        "\n",
        "4. **Presenting Results:**\n",
        "   - Organize information logically, using bullet points, numbered lists, or sections for clarity.\n",
        "   - Highlight key points or takeaways to ensure the user grasps the essential information.\n",
        "   - If multiple solutions or approaches are possible, present them with pros and cons to help the user make informed decisions.\n",
        "\n",
        "5. **Error Handling:**\n",
        "   - If unable to provide a satisfactory answer, suggest alternative resources or encourage the user to rephrase their query.\n",
        "   - If a query is outside your expertise, inform the user and offer to connect them with a general support agent or provide relevant contact information.\n",
        "\n",
        "6. **Conversation Context:**\n",
        "   - Maintain context from previous interactions to handle follow-up questions effectively.\n",
        "   - Use the conversation history to understand references to earlier topics or results.\n",
        "\n",
        "7. **User Guidance:**\n",
        "   - If the user seems unsure about what to ask, provide examples of common mobile development queries, such as 'How do I implement push notifications in iOS?' or 'What are the differences between Flutter and React Native?'\n",
        "   - Encourage users to explore related topics or resources for a deeper understanding.\n",
        "\n",
        "**Additional Instructions:**\n",
        "- Be polite, helpful, and professional in all interactions.\n",
        "- Do not attempt to answer queries unrelated to mobile application development using general knowledge; stay within the defined scope.\n",
        "\n",
        "**Remember:** Your capabilities are limited to assisting with queries related to mobile application development. For other topics, direct the user to the appropriate resources or agents.\n",
        "\"\"\""
      ],
      "metadata": {
        "id": "K4V6Ph-yx62k"
      },
      "execution_count": 48,
      "outputs": []
    },
    {
      "cell_type": "code",
      "source": [
        "mobiledev_agent = Agent(\n",
        "    name=\"Mobile App Developer\",\n",
        "    instructions = mobiledev_agent_instructions,\n",
        "    model=model,\n",
        "    handoff_description=\"You are the Mobile App Developer Agent, specialized in assisting users with queries related to mobile application development. Your primary function is to provide accurate, clear, and helpful information on mobile development topics, including but not limited to native development, cross-platform frameworks, mobile app design, and deployment.\"\n",
        "    )"
      ],
      "metadata": {
        "id": "Bzig0cwu0MQo"
      },
      "execution_count": 49,
      "outputs": []
    },
    {
      "cell_type": "code",
      "source": [
        "agenticdev_agent_instructions=\"\"\"\n",
        "\n",
        "You are the Agentic AI App Developer Agent, specialized in assisting users with queries related to developing agentic AI applications. Your primary function is to provide accurate, clear, and helpful information on topics including AI model selection, integration, deployment, ethical considerations, and user experience design for agentic AI apps.\n",
        "\n",
        "**Guidelines for Interaction:**\n",
        "\n",
        "1. **Scope of Assistance:**\n",
        "   - You can assist with queries related to:\n",
        "     - Selecting appropriate AI models for specific use cases\n",
        "     - Integrating AI models into applications\n",
        "     - Deploying agentic AI applications\n",
        "     - Ethical considerations in AI app development\n",
        "     - User experience design for AI-powered applications\n",
        "   - For queries outside this scope, politely inform the user that you cannot help with that and suggest they consult the appropriate resources or agents.\n",
        "\n",
        "2. **Handling User Queries:**\n",
        "   - For simple queries, provide direct and concise answers.\n",
        "   - For complex queries, break down the information into manageable parts, offer step-by-step guidance, or provide resources for further learning.\n",
        "   - If a query is ambiguous, ask clarifying questions to better understand the user's needs.\n",
        "   - If a query is too broad, suggest narrowing it down or provide an overview with options for deeper exploration.\n",
        "\n",
        "3. **Providing Information:**\n",
        "   - Use clear and accessible language, avoiding jargon unless necessary, and explain technical terms when used.\n",
        "   - Offer examples, code snippets, or analogies to illustrate concepts when appropriate.\n",
        "   - Reference reliable sources or documentation when providing information, especially for best practices or ethical guidelines.\n",
        "\n",
        "4. **Presenting Results:**\n",
        "   - Organize information logically, using bullet points, numbered lists, or sections for clarity.\n",
        "   - Highlight key points or takeaways to ensure the user grasps the essential information.\n",
        "   - If multiple solutions or approaches are possible, present them with pros and cons to help the user make informed decisions.\n",
        "\n",
        "5. **Error Handling:**\n",
        "   - If unable to provide a satisfactory answer, suggest alternative resources or encourage the user to rephrase their query.\n",
        "   - If a query is outside your expertise, inform the user and offer to connect them with a general support agent or provide relevant contact information.\n",
        "\n",
        "6. **Conversation Context:**\n",
        "   - Maintain context from previous interactions to handle follow-up questions effectively.\n",
        "   - Use the conversation history to understand references to earlier topics or results.\n",
        "\n",
        "7. **User Guidance:**\n",
        "   - If the user seems unsure about what to ask, provide examples of common queries, such as 'How do I choose the right AI model for my application?' or 'What are the best practices for deploying an agentic AI app?'\n",
        "   - Encourage users to explore related topics or resources for a deeper understanding.\n",
        "\n",
        "**Additional Instructions:**\n",
        "- Be polite, helpful, and professional in all interactions.\n",
        "- Do not attempt to answer queries unrelated to agentic AI application development using general knowledge; stay within the defined scope.\n",
        "\n",
        "**Remember:** Your capabilities are limited to assisting with queries related to agentic AI application development. For other topics, direct the user to the appropriate resources or agents.\"\"\""
      ],
      "metadata": {
        "id": "RnVzUEzj03m4"
      },
      "execution_count": 50,
      "outputs": []
    },
    {
      "cell_type": "code",
      "source": [
        "from agents.tool import function_tool\n",
        "@function_tool\n",
        "def devops_agent_tool()->str:\n",
        "  return \"Devops Agent Tool Used.\""
      ],
      "metadata": {
        "id": "2700-Bvd21F0"
      },
      "execution_count": 51,
      "outputs": []
    },
    {
      "cell_type": "code",
      "source": [
        "@function_tool\n",
        "def openai_tech_tool()->str:\n",
        "  return \"OpenAI Tool Used.\""
      ],
      "metadata": {
        "id": "1kwOqhSp8XSu"
      },
      "execution_count": 52,
      "outputs": []
    },
    {
      "cell_type": "code",
      "source": [
        "agenticdev_agent = Agent(\n",
        "    name=\"Agentic AI App Developer\",\n",
        "    instructions = agenticdev_agent_instructions,\n",
        "    model=model,\n",
        "    tools=[devops_agent_tool,openai_tech_tool],\n",
        "    handoff_description=\"You are the Agentic AI App Developer Agent, specialized in assisting users with queries related to developing agentic AI applications. Your primary function is to provide accurate, clear, and helpful information on topics including AI model selection, integration, deployment, ethical considerations, and user experience design for agentic AI apps.\"\n",
        "    )"
      ],
      "metadata": {
        "id": "2ufsN4Bi1SFg"
      },
      "execution_count": 53,
      "outputs": []
    },
    {
      "cell_type": "code",
      "source": [
        "!pip install -Uq \"openai-agents[viz]\""
      ],
      "metadata": {
        "id": "vboyzjwd1cSL"
      },
      "execution_count": 54,
      "outputs": []
    },
    {
      "cell_type": "code",
      "source": [
        "from agents.extensions.visualization  import draw_graph\n",
        "draw_graph(panacloud_agent)"
      ],
      "metadata": {
        "id": "XyN6ymuJ8u0b",
        "outputId": "f0ff81c2-19b4-4fa7-bf2a-8cabf44423d0",
        "colab": {
          "base_uri": "https://localhost:8080/",
          "height": 417
        }
      },
      "execution_count": 55,
      "outputs": [
        {
          "output_type": "execute_result",
          "data": {
            "image/svg+xml": "<?xml version=\"1.0\" encoding=\"UTF-8\" standalone=\"no\"?>\n<!DOCTYPE svg PUBLIC \"-//W3C//DTD SVG 1.1//EN\"\n \"http://www.w3.org/Graphics/SVG/1.1/DTD/svg11.dtd\">\n<!-- Generated by graphviz version 2.43.0 (0)\n -->\n<!-- Title: G Pages: 1 -->\n<svg width=\"685pt\" height=\"297pt\"\n viewBox=\"0.00 0.00 684.65 297.05\" xmlns=\"http://www.w3.org/2000/svg\" xmlns:xlink=\"http://www.w3.org/1999/xlink\">\n<g id=\"graph0\" class=\"graph\" transform=\"scale(1 1) rotate(0) translate(4 293.05)\">\n<title>G</title>\n<polygon fill=\"white\" stroke=\"transparent\" points=\"-4,4 -4,-293.05 680.65,-293.05 680.65,4 -4,4\"/>\n<!-- __start__ -->\n<g id=\"node1\" class=\"node\">\n<title>__start__</title>\n<ellipse fill=\"lightblue\" stroke=\"black\" cx=\"229.5\" cy=\"-272.79\" rx=\"51.74\" ry=\"16.03\"/>\n<text text-anchor=\"middle\" x=\"229.5\" y=\"-269.09\" font-family=\"Arial\" font-size=\"14.00\">__start__</text>\n</g>\n<!-- Panacloud Supervisor -->\n<g id=\"node3\" class=\"node\">\n<title>Panacloud Supervisor</title>\n<polygon fill=\"lightyellow\" stroke=\"black\" points=\"304,-220.53 155,-220.53 155,-162.53 304,-162.53 304,-220.53\"/>\n<text text-anchor=\"middle\" x=\"229.5\" y=\"-187.83\" font-family=\"Arial\" font-size=\"14.00\">Panacloud Supervisor</text>\n</g>\n<!-- __start__&#45;&gt;Panacloud Supervisor -->\n<g id=\"edge1\" class=\"edge\">\n<title>__start__&#45;&gt;Panacloud Supervisor</title>\n<path fill=\"none\" stroke=\"black\" stroke-width=\"1.5\" d=\"M229.5,-256.51C229.5,-249.12 229.5,-239.89 229.5,-230.76\"/>\n<polygon fill=\"black\" stroke=\"black\" stroke-width=\"1.5\" points=\"233,-230.6 229.5,-220.6 226,-230.6 233,-230.6\"/>\n</g>\n<!-- __end__ -->\n<g id=\"node2\" class=\"node\">\n<title>__end__</title>\n<ellipse fill=\"lightblue\" stroke=\"black\" cx=\"229.5\" cy=\"-16.26\" rx=\"48.58\" ry=\"16.03\"/>\n<text text-anchor=\"middle\" x=\"229.5\" y=\"-12.56\" font-family=\"Arial\" font-size=\"14.00\">__end__</text>\n</g>\n<!-- Web App Developer -->\n<g id=\"node4\" class=\"node\">\n<title>Web App Developer</title>\n<polygon fill=\"lightyellow\" stroke=\"black\" points=\"137,-126.53 0,-126.53 0,-68.53 137,-68.53 137,-126.53\"/>\n<text text-anchor=\"middle\" x=\"68.5\" y=\"-93.83\" font-family=\"Arial\" font-size=\"14.00\">Web App Developer</text>\n</g>\n<!-- Panacloud Supervisor&#45;&gt;Web App Developer -->\n<g id=\"edge2\" class=\"edge\">\n<title>Panacloud Supervisor&#45;&gt;Web App Developer</title>\n<path fill=\"none\" stroke=\"black\" stroke-width=\"1.5\" d=\"M180.32,-162.42C163.39,-152.75 144.27,-141.82 126.69,-131.78\"/>\n<polygon fill=\"black\" stroke=\"black\" stroke-width=\"1.5\" points=\"128.08,-128.54 117.66,-126.62 124.6,-134.62 128.08,-128.54\"/>\n</g>\n<!-- Mobile App Developer -->\n<g id=\"node5\" class=\"node\">\n<title>Mobile App Developer</title>\n<polygon fill=\"lightyellow\" stroke=\"black\" points=\"304,-126.53 155,-126.53 155,-68.53 304,-68.53 304,-126.53\"/>\n<text text-anchor=\"middle\" x=\"229.5\" y=\"-93.83\" font-family=\"Arial\" font-size=\"14.00\">Mobile App Developer</text>\n</g>\n<!-- Panacloud Supervisor&#45;&gt;Mobile App Developer -->\n<g id=\"edge4\" class=\"edge\">\n<title>Panacloud Supervisor&#45;&gt;Mobile App Developer</title>\n<path fill=\"none\" stroke=\"black\" stroke-width=\"1.5\" d=\"M229.5,-162.42C229.5,-154.38 229.5,-145.48 229.5,-136.94\"/>\n<polygon fill=\"black\" stroke=\"black\" stroke-width=\"1.5\" points=\"233,-136.77 229.5,-126.77 226,-136.77 233,-136.77\"/>\n</g>\n<!-- Agentic AI App Developer -->\n<g id=\"node6\" class=\"node\">\n<title>Agentic AI App Developer</title>\n<polygon fill=\"lightyellow\" stroke=\"black\" points=\"492.5,-126.53 322.5,-126.53 322.5,-68.53 492.5,-68.53 492.5,-126.53\"/>\n<text text-anchor=\"middle\" x=\"407.5\" y=\"-93.83\" font-family=\"Arial\" font-size=\"14.00\">Agentic AI App Developer</text>\n</g>\n<!-- Panacloud Supervisor&#45;&gt;Agentic AI App Developer -->\n<g id=\"edge6\" class=\"edge\">\n<title>Panacloud Supervisor&#45;&gt;Agentic AI App Developer</title>\n<path fill=\"none\" stroke=\"black\" stroke-width=\"1.5\" d=\"M283.87,-162.42C302.94,-152.57 324.51,-141.42 344.24,-131.23\"/>\n<polygon fill=\"black\" stroke=\"black\" stroke-width=\"1.5\" points=\"345.88,-134.32 353.15,-126.62 342.66,-128.1 345.88,-134.32\"/>\n</g>\n<!-- Web App Developer&#45;&gt;__end__ -->\n<g id=\"edge3\" class=\"edge\">\n<title>Web App Developer&#45;&gt;__end__</title>\n<path fill=\"none\" stroke=\"black\" stroke-width=\"1.5\" d=\"M125.72,-68.36C148.66,-57.06 174.36,-44.41 194.44,-34.52\"/>\n<polygon fill=\"black\" stroke=\"black\" stroke-width=\"1.5\" points=\"196.1,-37.61 203.53,-30.05 193.01,-31.33 196.1,-37.61\"/>\n</g>\n<!-- Mobile App Developer&#45;&gt;__end__ -->\n<g id=\"edge5\" class=\"edge\">\n<title>Mobile App Developer&#45;&gt;__end__</title>\n<path fill=\"none\" stroke=\"black\" stroke-width=\"1.5\" d=\"M229.5,-68.36C229.5,-60.07 229.5,-51.04 229.5,-42.92\"/>\n<polygon fill=\"black\" stroke=\"black\" stroke-width=\"1.5\" points=\"233,-42.89 229.5,-32.89 226,-42.89 233,-42.89\"/>\n</g>\n<!-- Agentic AI App Developer&#45;&gt;__end__ -->\n<g id=\"edge11\" class=\"edge\">\n<title>Agentic AI App Developer&#45;&gt;__end__</title>\n<path fill=\"none\" stroke=\"black\" stroke-width=\"1.5\" d=\"M344.49,-68.47C318.42,-56.86 289.07,-43.79 266.56,-33.77\"/>\n<polygon fill=\"black\" stroke=\"black\" stroke-width=\"1.5\" points=\"267.91,-30.54 257.35,-29.67 265.07,-36.93 267.91,-30.54\"/>\n</g>\n<!-- devops_agent_tool -->\n<g id=\"node7\" class=\"node\">\n<title>devops_agent_tool</title>\n<ellipse fill=\"lightgreen\" stroke=\"black\" cx=\"397.5\" cy=\"-16.26\" rx=\"92.76\" ry=\"16.03\"/>\n<text text-anchor=\"middle\" x=\"397.5\" y=\"-12.56\" font-family=\"Arial\" font-size=\"14.00\">devops_agent_tool</text>\n</g>\n<!-- Agentic AI App Developer&#45;&gt;devops_agent_tool -->\n<g id=\"edge7\" class=\"edge\">\n<title>Agentic AI App Developer&#45;&gt;devops_agent_tool</title>\n<path fill=\"none\" stroke=\"black\" stroke-width=\"1.5\" stroke-dasharray=\"1,5\" d=\"M397.45,-68.36C396.03,-60.07 394.93,-51.04 394.37,-42.92\"/>\n<polygon fill=\"black\" stroke=\"black\" stroke-width=\"1.5\" points=\"397.87,-42.74 393.97,-32.89 390.88,-43.02 397.87,-42.74\"/>\n</g>\n<!-- openai_tech_tool -->\n<g id=\"node8\" class=\"node\">\n<title>openai_tech_tool</title>\n<ellipse fill=\"lightgreen\" stroke=\"black\" cx=\"592.5\" cy=\"-16.26\" rx=\"84.29\" ry=\"16.03\"/>\n<text text-anchor=\"middle\" x=\"592.5\" y=\"-12.56\" font-family=\"Arial\" font-size=\"14.00\">openai_tech_tool</text>\n</g>\n<!-- Agentic AI App Developer&#45;&gt;openai_tech_tool -->\n<g id=\"edge9\" class=\"edge\">\n<title>Agentic AI App Developer&#45;&gt;openai_tech_tool</title>\n<path fill=\"none\" stroke=\"black\" stroke-width=\"1.5\" stroke-dasharray=\"1,5\" d=\"M466.5,-68.47C492.22,-57.23 521.9,-44.62 546.03,-34.73\"/>\n<polygon fill=\"black\" stroke=\"black\" stroke-width=\"1.5\" points=\"547.38,-37.96 555.33,-30.94 544.74,-31.47 547.38,-37.96\"/>\n</g>\n<!-- devops_agent_tool&#45;&gt;Agentic AI App Developer -->\n<g id=\"edge8\" class=\"edge\">\n<title>devops_agent_tool&#45;&gt;Agentic AI App Developer</title>\n<path fill=\"none\" stroke=\"black\" stroke-width=\"1.5\" stroke-dasharray=\"1,5\" d=\"M404.97,-32.89C406.78,-40.23 408.34,-49.33 409.43,-58.34\"/>\n<polygon fill=\"black\" stroke=\"black\" stroke-width=\"1.5\" points=\"405.95,-58.76 410.44,-68.36 412.92,-58.06 405.95,-58.76\"/>\n</g>\n<!-- openai_tech_tool&#45;&gt;Agentic AI App Developer -->\n<g id=\"edge10\" class=\"edge\">\n<title>openai_tech_tool&#45;&gt;Agentic AI App Developer</title>\n<path fill=\"none\" stroke=\"black\" stroke-width=\"1.5\" stroke-dasharray=\"1,5\" d=\"M564.39,-31.6C544.17,-40.77 515.93,-53.06 488.95,-64.48\"/>\n<polygon fill=\"black\" stroke=\"black\" stroke-width=\"1.5\" points=\"487.33,-61.36 479.47,-68.47 490.05,-67.81 487.33,-61.36\"/>\n</g>\n</g>\n</svg>\n",
            "text/plain": [
              "<graphviz.sources.Source at 0x7a0f86ff6050>"
            ]
          },
          "metadata": {},
          "execution_count": 55
        }
      ]
    },
    {
      "cell_type": "code",
      "source": [],
      "metadata": {
        "id": "eB5n8A2183ej"
      },
      "execution_count": null,
      "outputs": []
    }
  ],
  "metadata": {
    "language_info": {
      "name": "python"
    },
    "colab": {
      "provenance": [],
      "include_colab_link": true
    },
    "kernelspec": {
      "name": "python3",
      "display_name": "Python 3"
    }
  },
  "nbformat": 4,
  "nbformat_minor": 0
}
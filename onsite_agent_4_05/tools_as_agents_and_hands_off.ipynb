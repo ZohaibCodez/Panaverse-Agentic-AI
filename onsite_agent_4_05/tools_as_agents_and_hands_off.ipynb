{
  "nbformat": 4,
  "nbformat_minor": 0,
  "metadata": {
    "colab": {
      "provenance": [],
      "authorship_tag": "ABX9TyP0cGOKBYWWt7aHysNausXb",
      "include_colab_link": true
    },
    "kernelspec": {
      "name": "python3",
      "display_name": "Python 3"
    },
    "language_info": {
      "name": "python"
    }
  },
  "cells": [
    {
      "cell_type": "markdown",
      "metadata": {
        "id": "view-in-github",
        "colab_type": "text"
      },
      "source": [
        "<a href=\"https://colab.research.google.com/github/ZohaibCodez/Panaverse-Agentic-AI/blob/master/onsite_agent_4_05/tools_as_agents_and_hands_off.ipynb\" target=\"_parent\"><img src=\"https://colab.research.google.com/assets/colab-badge.svg\" alt=\"Open In Colab\"/></a>"
      ]
    },
    {
      "cell_type": "code",
      "execution_count": 1,
      "metadata": {
        "colab": {
          "base_uri": "https://localhost:8080/"
        },
        "id": "WXNUzACplxxD",
        "outputId": "f76deddc-fe00-4e6c-ac77-53685d31690f"
      },
      "outputs": [
        {
          "output_type": "stream",
          "name": "stdout",
          "text": [
            "\u001b[?25l   \u001b[90m━━━━━━━━━━━━━━━━━━━━━━━━━━━━━━━━━━━━━━━━\u001b[0m \u001b[32m0.0/116.9 kB\u001b[0m \u001b[31m?\u001b[0m eta \u001b[36m-:--:--\u001b[0m\r\u001b[2K   \u001b[90m━━━━━━━━━━━━━━━━━━━━━━━━━━━━━━━━━━━━━━━━\u001b[0m \u001b[32m116.9/116.9 kB\u001b[0m \u001b[31m4.3 MB/s\u001b[0m eta \u001b[36m0:00:00\u001b[0m\n",
            "\u001b[2K   \u001b[90m━━━━━━━━━━━━━━━━━━━━━━━━━━━━━━━━━━━━━━━━\u001b[0m \u001b[32m129.3/129.3 kB\u001b[0m \u001b[31m7.6 MB/s\u001b[0m eta \u001b[36m0:00:00\u001b[0m\n",
            "\u001b[2K   \u001b[90m━━━━━━━━━━━━━━━━━━━━━━━━━━━━━━━━━━━━━━━━\u001b[0m \u001b[32m100.4/100.4 kB\u001b[0m \u001b[31m3.6 MB/s\u001b[0m eta \u001b[36m0:00:00\u001b[0m\n",
            "\u001b[2K   \u001b[90m━━━━━━━━━━━━━━━━━━━━━━━━━━━━━━━━━━━━━━━━\u001b[0m \u001b[32m44.4/44.4 kB\u001b[0m \u001b[31m2.1 MB/s\u001b[0m eta \u001b[36m0:00:00\u001b[0m\n",
            "\u001b[2K   \u001b[90m━━━━━━━━━━━━━━━━━━━━━━━━━━━━━━━━━━━━━━━━\u001b[0m \u001b[32m72.0/72.0 kB\u001b[0m \u001b[31m3.2 MB/s\u001b[0m eta \u001b[36m0:00:00\u001b[0m\n",
            "\u001b[2K   \u001b[90m━━━━━━━━━━━━━━━━━━━━━━━━━━━━━━━━━━━━━━━━\u001b[0m \u001b[32m62.5/62.5 kB\u001b[0m \u001b[31m1.8 MB/s\u001b[0m eta \u001b[36m0:00:00\u001b[0m\n",
            "\u001b[?25h"
          ]
        }
      ],
      "source": [
        "!pip install -Uq openai-agents"
      ]
    },
    {
      "cell_type": "code",
      "source": [
        "import nest_asyncio\n",
        "nest_asyncio.apply()"
      ],
      "metadata": {
        "id": "w52-DrrOl0PQ"
      },
      "execution_count": 2,
      "outputs": []
    },
    {
      "cell_type": "code",
      "source": [
        "from agents import Agent,Runner,AsyncOpenAI,OpenAIChatCompletionsModel,set_tracing_disabled\n",
        "from google.colab import userdata\n",
        "import requests\n",
        "\n",
        "set_tracing_disabled(True)\n",
        "\n",
        "external_client = AsyncOpenAI(\n",
        "    base_url = \"https://generativelanguage.googleapis.com/v1beta/openai/\",\n",
        "    api_key=userdata.get(\"GEMINI_API_KEY\")\n",
        ")\n",
        "\n",
        "model = OpenAIChatCompletionsModel(\n",
        "    openai_client=external_client,\n",
        "    model=\"gemini-2.0-flash\"\n",
        ")\n"
      ],
      "metadata": {
        "id": "CI82Krncl2Uq"
      },
      "execution_count": 22,
      "outputs": []
    },
    {
      "cell_type": "code",
      "source": [
        "from agents import set_tracing_disabled\n",
        "from agents.tool import function_tool"
      ],
      "metadata": {
        "id": "mCiL_dJil3un"
      },
      "execution_count": 23,
      "outputs": []
    },
    {
      "cell_type": "code",
      "source": [
        "!pip install -Uq tavily-python"
      ],
      "metadata": {
        "id": "wo4d4E0_mlaT"
      },
      "execution_count": 24,
      "outputs": []
    },
    {
      "cell_type": "code",
      "source": [
        "search_agent_instructions=\"\"\"\n",
        "System Instructions for Search Agent\n",
        "1. Purpose\n",
        "\n",
        "The Search Agent is designed to help users find information by interpreting their queries and retrieving relevant results from a designated database or the web. It aims to provide accurate, timely, and contextually appropriate responses to a wide range of user inquiries.\n",
        "2. Capabilities\n",
        "\n",
        "    Query Understanding: Interpret natural language queries to identify keywords, phrases, and user intent.\n",
        "    Search Execution: Retrieve information using advanced search algorithms, whether from a database or the web.\n",
        "    Result Ranking: Organize and present results based on relevance, popularity, recency, or user-specific preferences.\n",
        "    Query Handling: Manage different query types, including factual (e.g., \"What is the capital of France?\"), navigational (e.g., \"Find the Wikipedia homepage\"), and transactional (e.g., \"Book a flight\") searches.\n",
        "    User Feedback: Offer suggestions or clarifications for unclear or unanswerable queries to improve search outcomes.\n",
        "\n",
        "3. User Interaction\n",
        "\n",
        "    Input Method: Accept text-based queries from users.\n",
        "    Output Format: Display results in a clear, organized manner, prioritizing the most relevant information.\n",
        "    Additional Features: Optionally provide related queries, summaries, or direct answers for common questions.\n",
        "\n",
        "4. Query Processing\n",
        "\n",
        "    Parsing: Break down the query to extract keywords, entities, and relationships.\n",
        "    Intent Recognition: Determine the user's goal (e.g., seeking facts, finding a website, performing an action).\n",
        "    Query Enhancement: Handle synonyms, correct misspellings, and account for variations in phrasing to improve accuracy.\n",
        "\n",
        "5. Search Mechanism\n",
        "\n",
        "    Web Search: Utilize APIs from search engines (e.g., Google, Bing) to fetch real-time results.\n",
        "    Database Search: Query internal or specialized databases using optimized search algorithms.\n",
        "    Efficiency: Implement caching, indexing, or pre-fetching techniques to enhance search speed and reduce latency.\n",
        "\n",
        "6. Result Ranking\n",
        "\n",
        "    Relevance Scoring: Use algorithms to rank results based on keyword matching, semantic similarity, and contextual relevance.\n",
        "    Additional Factors: Incorporate popularity (e.g., click-through rates), recency, and source credibility.\n",
        "    Customization: Allow for adjustable ranking criteria based on the specific use case or user preferences.\n",
        "\n",
        "7. Error Handling\n",
        "\n",
        "    No Results Found: Suggest alternative queries, related topics, or provide tips for refining the search (e.g., \"Did you mean...?\").\n",
        "    Ambiguous Queries: Ask clarifying questions or present multiple interpretations to guide the user (e.g., \"Are you looking for X or Y?\").\n",
        "    Technical Errors: Gracefully manage errors (e.g., timeouts, API failures) and inform the user without exposing sensitive details.\n",
        "\n",
        "8. Performance\n",
        "\n",
        "    Speed: Optimize search algorithms and infrastructure to deliver results quickly, even under heavy load.\n",
        "    Concurrency: Efficiently handle multiple simultaneous queries without degradation in performance.\n",
        "    Resource Management: Monitor and manage CPU, memory, and network usage to prevent bottlenecks.\n",
        "\n",
        "9. Security\n",
        "\n",
        "    Data Protection: Ensure user queries and personal data are handled securely, with encryption where necessary.\n",
        "    Threat Prevention: Implement safeguards against injection attacks, unauthorized access, and other security vulnerabilities.\n",
        "    Compliance: Adhere to relevant data protection regulations (e.g., GDPR, CCPA) and privacy standards.\n",
        "\n",
        "10. Maintenance and Updates\n",
        "\n",
        "    Index Updates: Regularly refresh the search index or database to include new or updated information.\n",
        "    Algorithm Improvement: Continuously refine search and ranking algorithms based on user feedback and performance data.\n",
        "    Technology Integration: Stay current with advancements in natural language processing, machine learning, and search technologies.\n",
        "\n",
        "11. Personalization (Optional)\n",
        "\n",
        "    User Preferences: Tailor results based on user history, location, or explicitly stated preferences.\n",
        "    Privacy Controls: Provide users with options to manage their data and opt out of personalization features.\n",
        "    Learning Mechanisms: Implement algorithms that adapt to user behavior over time to improve result relevance.\n",
        "\n",
        "12. Ethical Considerations\n",
        "\n",
        "    Bias Mitigation: Ensure search results are fair and unbiased, avoiding discrimination based on race, gender, or other sensitive attributes.\n",
        "    Content Filtering: Exclude inappropriate, harmful, or explicit content from search results.\n",
        "    Transparency: Offer explanations for how results are selected and ranked, fostering user trust.\n",
        "\n",
        "13. Scalability\n",
        "\n",
        "    Load Distribution: Design the system to scale horizontally by distributing search tasks across multiple servers or cloud resources.\n",
        "    Resilience: Implement load balancing and failover mechanisms to maintain reliability during peak usage or hardware failures.\n",
        "    Performance Monitoring: Track key metrics (e.g., response time, error rates) to proactively address scalability issues.\n",
        "\"\"\""
      ],
      "metadata": {
        "id": "xDQcOik4ovhR"
      },
      "execution_count": 25,
      "outputs": []
    },
    {
      "cell_type": "code",
      "source": [
        "from tavily import TavilyClient\n",
        "@function_tool\n",
        "def browse_online(query):\n",
        "  tavily_client = TavilyClient(api_key=userdata.get(\"TAVILY_API_KEY\"))\n",
        "  response = tavily_client.search(query)\n",
        "  return response\n",
        "\n",
        "search_agent = Agent(\n",
        "    name = \"Search Agent\",\n",
        "    instructions=search_agent_instructions,\n",
        "    tools=[browse_online],\n",
        "    model=model,\n",
        ")"
      ],
      "metadata": {
        "id": "vsvlDoN-mooa"
      },
      "execution_count": 26,
      "outputs": []
    },
    {
      "cell_type": "code",
      "source": [
        "response = Runner.run_sync(search_agent,\"What is weather in Lahore today.\")\n",
        "print(response.final_output)"
      ],
      "metadata": {
        "colab": {
          "base_uri": "https://localhost:8080/"
        },
        "id": "Rjp9RHyqnspz",
        "outputId": "3cab888e-317e-4a63-a3bb-305544dec9c4"
      },
      "execution_count": 27,
      "outputs": [
        {
          "output_type": "stream",
          "name": "stdout",
          "text": [
            "The weather in Lahore, Punjab, Pakistan is partly cloudy. The temperature is 32.4°C (90.3°F), feels like 31.9°C (89.4°F). The wind is 12.6 km/h from East.\n"
          ]
        }
      ]
    },
    {
      "cell_type": "code",
      "source": [
        "supervisor_agent_instructions=\"\"\"\n",
        "You are a Supervisor Agent designed to assist users by leveraging a specialized Search Agent that can search and browse for information. Your primary function is to interpret user queries, use the Search Agent to retrieve relevant information, and present the results in a clear and concise manner.\n",
        "\n",
        "**Guidelines for Interaction:**\n",
        "\n",
        "1. **Scope of Assistance:**\n",
        "   - You can assist with queries that require searching or browsing for information.\n",
        "   - For queries outside this scope, politely inform the user that you cannot help with that.\n",
        "\n",
        "2. **Handling User Queries:**\n",
        "   - For simple queries, pass the query directly to the Search Agent.\n",
        "   - For complex queries, break down the task into smaller steps, use the Search Agent for each step, and then combine the results to provide a comprehensive answer.\n",
        "   - For ambiguous queries, ask the user for clarification or provide multiple possible interpretations.\n",
        "   - If the query is outside the Search Agent's capabilities, inform the user politely.\n",
        "\n",
        "3. **Using the Search Agent:**\n",
        "   - The Search Agent is a tool specialized in searching and browsing. It can find specific information, answer questions, or summarize content.\n",
        "   - Invoke the Search Agent with the user's query to retrieve relevant information.\n",
        "\n",
        "4. **Presenting Results:**\n",
        "   - Once you receive the results from the Search Agent, present them to the user in a clear and concise manner.\n",
        "   - If multiple results are returned, rank them based on relevance or summarize the most important points.\n",
        "   - Include any references or sources provided by the Search Agent.\n",
        "\n",
        "5. **Error Handling:**\n",
        "   - If the Search Agent cannot find relevant information, suggest alternative queries or ask the user to rephrase their question.\n",
        "   - If the Search Agent encounters an error, inform the user and offer to retry the search or provide alternative assistance.\n",
        "\n",
        "6. **Conversation Context:**\n",
        "   - Maintain context from previous interactions to handle follow-up questions effectively.\n",
        "   - Use the conversation history to understand references to earlier topics or results.\n",
        "\n",
        "7. **User Guidance:**\n",
        "   - If the user seems unsure about what to ask, provide examples of queries that the Search Agent can handle, such as 'Find me information about X' or 'What are the latest developments in Y?'\n",
        "\n",
        "**Additional Instructions:**\n",
        "- Be polite, helpful, and professional in all interactions.\n",
        "- Do not attempt to answer queries unrelated to searching or browsing using general knowledge; stay within the defined scope.\n",
        "\n",
        "**Remember:** Your capabilities are limited to assisting with queries that require searching or browsing using the Search Agent tool.\n",
        "\"\"\"\n"
      ],
      "metadata": {
        "id": "ekbPyXippZx9"
      },
      "execution_count": 36,
      "outputs": []
    },
    {
      "cell_type": "code",
      "source": [
        "# prompt: create a simple function in python to return current datetime and also do static typing and return must be a string in human understandable form\n",
        "\n",
        "from datetime import datetime\n",
        "\n",
        "@function_tool\n",
        "def current_datetime() -> str:\n",
        "  \"\"\"Returns the current date and time as a formatted string.\n",
        "\n",
        "  Returns:\n",
        "      str: The current date and time in the format \"YYYY-MM-DD HH:MM:SS\".\n",
        "  \"\"\"\n",
        "  now = datetime.now()\n",
        "  return now.strftime(\"%Y-%m-%d %H:%M:%S\")\n"
      ],
      "metadata": {
        "id": "2yzj2hwUsJrE"
      },
      "execution_count": 46,
      "outputs": []
    },
    {
      "cell_type": "code",
      "source": [
        "supervisor_agent = Agent(\n",
        "    name=\"Supervisor Agent\",\n",
        "    instructions=supervisor_agent_instructions,\n",
        "    tools=[current_datetime,\n",
        "        search_agent.as_tool(tool_name=\"search_agent\",tool_description=\"Specialized in Searching and Browsing.\")\n",
        "    ],\n",
        "    model=model,\n",
        ")\n",
        ""
      ],
      "metadata": {
        "id": "UOnockGen3dA"
      },
      "execution_count": 47,
      "outputs": []
    },
    {
      "cell_type": "code",
      "source": [
        "response = Runner.run_sync(supervisor_agent,\"What is happening between India and Pakistan today?\")\n",
        "print(response.final_output)"
      ],
      "metadata": {
        "colab": {
          "base_uri": "https://localhost:8080/"
        },
        "id": "7nSRTqzrqDYP",
        "outputId": "402ce2f5-2245-4911-eece-8dad70e93a63"
      },
      "execution_count": 48,
      "outputs": [
        {
          "output_type": "stream",
          "name": "stdout",
          "text": [
            "Tensions are escalating between India and Pakistan following an attack on tourists in Kashmir. India has given its army \"full freedom\" in making decisions, while Pakistan claims to have \"credible intelligence\" that India will carry out a military strike.\n"
          ]
        }
      ]
    },
    {
      "cell_type": "code",
      "source": [
        "response = Runner.run_sync(supervisor_agent,\"What is weather in Lahore Today\")\n",
        "print(f\"**{response.last_agent.name}**\\n {response.final_output}\")\n",
        "response.to_input_list()"
      ],
      "metadata": {
        "colab": {
          "base_uri": "https://localhost:8080/"
        },
        "collapsed": true,
        "id": "ggjuaYG1qNRS",
        "outputId": "f73df1f5-98f4-4993-a6e9-3de6785877e3"
      },
      "execution_count": 49,
      "outputs": [
        {
          "output_type": "stream",
          "name": "stdout",
          "text": [
            "**Supervisor Agent**\n",
            " The weather in Lahore today, May 4, 2025, is partly cloudy with a temperature of 32°C (89.6°F). The wind is blowing from the east at 12.6 km/h.\n",
            "\n"
          ]
        },
        {
          "output_type": "execute_result",
          "data": {
            "text/plain": [
              "[{'content': 'What is weather in Lahore Today', 'role': 'user'},\n",
              " {'arguments': '{\"input\":\"weather in Lahore today\"}',\n",
              "  'call_id': '',\n",
              "  'name': 'search_agent',\n",
              "  'type': 'function_call',\n",
              "  'id': '__fake_id__'},\n",
              " {'call_id': '',\n",
              "  'output': 'The weather in Lahore today, May 4, 2025, is partly cloudy with a temperature of 32°C (89.6°F). The wind is blowing from the east at 12.6 km/h.',\n",
              "  'type': 'function_call_output'},\n",
              " {'id': '__fake_id__',\n",
              "  'content': [{'annotations': [],\n",
              "    'text': 'The weather in Lahore today, May 4, 2025, is partly cloudy with a temperature of 32°C (89.6°F). The wind is blowing from the east at 12.6 km/h.\\n',\n",
              "    'type': 'output_text'}],\n",
              "  'role': 'assistant',\n",
              "  'status': 'completed',\n",
              "  'type': 'message'}]"
            ]
          },
          "metadata": {},
          "execution_count": 49
        }
      ]
    },
    {
      "cell_type": "code",
      "source": [
        "response = Runner.run_sync(supervisor_agent,\"What is current date and time\")\n",
        "print(f\"**{response.last_agent.name}**\\n {response.final_output}\")\n",
        "response.to_input_list()"
      ],
      "metadata": {
        "colab": {
          "base_uri": "https://localhost:8080/"
        },
        "collapsed": true,
        "id": "Kp830hgRrrF5",
        "outputId": "50af89d6-1481-45da-ee3a-ccb2d7a27ad4"
      },
      "execution_count": 50,
      "outputs": [
        {
          "output_type": "stream",
          "name": "stdout",
          "text": [
            "**Supervisor Agent**\n",
            " The current date and time is 2025-05-04 09:51:20.\n",
            "\n"
          ]
        },
        {
          "output_type": "execute_result",
          "data": {
            "text/plain": [
              "[{'content': 'What is current date and time', 'role': 'user'},\n",
              " {'arguments': '{}',\n",
              "  'call_id': '',\n",
              "  'name': 'current_datetime',\n",
              "  'type': 'function_call',\n",
              "  'id': '__fake_id__'},\n",
              " {'call_id': '',\n",
              "  'output': '2025-05-04 09:51:20',\n",
              "  'type': 'function_call_output'},\n",
              " {'id': '__fake_id__',\n",
              "  'content': [{'annotations': [],\n",
              "    'text': 'The current date and time is 2025-05-04 09:51:20.\\n',\n",
              "    'type': 'output_text'}],\n",
              "  'role': 'assistant',\n",
              "  'status': 'completed',\n",
              "  'type': 'message'}]"
            ]
          },
          "metadata": {},
          "execution_count": 50
        }
      ]
    },
    {
      "cell_type": "code",
      "source": [
        "response = Runner.run_sync(supervisor_agent,\"What is current datetime for America and tell me latest news headline about london for today\")\n",
        "print(f\"**{response.last_agent.name}**\\n {response.final_output}\")\n",
        "response.to_input_list()"
      ],
      "metadata": {
        "colab": {
          "base_uri": "https://localhost:8080/"
        },
        "collapsed": true,
        "id": "Arp_5YROtKAg",
        "outputId": "46384a1a-78e9-45cb-b608-554c97ee3d94"
      },
      "execution_count": 54,
      "outputs": [
        {
          "output_type": "stream",
          "name": "stdout",
          "text": [
            "**Supervisor Agent**\n",
            " The current date and time is 2025-05-04 09:53:26. Here are some of the latest news headlines about London today: NewsNow: Live London news including the latest news today on crime, travel, the Tube, weather, and much more from the capital city of England and the UK. Evening Standard: Latest London news, headlines and breaking updates in the capital. Metro: Find out the latest news headlines and top stories from the UK, US and rest of the world. London King's Cross station evacuated with 'all lines blocked'. The Standard: All the latest news in London, around the UK and the world. London Marathon breaks world record with more than 1.1 million entries. BBC: Get all the latest news, live updates and content about London from across the BBC.\n",
            "\n"
          ]
        },
        {
          "output_type": "execute_result",
          "data": {
            "text/plain": [
              "[{'content': 'What is current datetime for America and tell me latest news headline about london for today',\n",
              "  'role': 'user'},\n",
              " {'arguments': '{}',\n",
              "  'call_id': '',\n",
              "  'name': 'current_datetime',\n",
              "  'type': 'function_call',\n",
              "  'id': '__fake_id__'},\n",
              " {'arguments': '{\"input\":\"latest news headlines about London today\"}',\n",
              "  'call_id': '',\n",
              "  'name': 'search_agent',\n",
              "  'type': 'function_call',\n",
              "  'id': '__fake_id__'},\n",
              " {'call_id': '',\n",
              "  'output': '2025-05-04 09:53:26',\n",
              "  'type': 'function_call_output'},\n",
              " {'call_id': '',\n",
              "  'output': \"Here are some of the latest news headlines about London today:\\n\\n*   **NewsNow:** Live London news including the latest news today on crime, travel, the Tube, weather, and much more from the capital city of England and the UK.\\n*   **Evening Standard:** Latest London news, headlines and breaking updates in the capital.\\n*   **Metro:** Find out the latest news headlines and top stories from the UK, US and rest of the world. London King's Cross station evacuated with 'all lines blocked'.\\n*   **The Standard:** All the latest news in London, around the UK and the world. London Marathon breaks world record with more than 1.1 million entries.\\n*   **BBC:** Get all the latest news, live updates and content about London from across the BBC.\",\n",
              "  'type': 'function_call_output'},\n",
              " {'id': '__fake_id__',\n",
              "  'content': [{'annotations': [],\n",
              "    'text': \"The current date and time is 2025-05-04 09:53:26. Here are some of the latest news headlines about London today: NewsNow: Live London news including the latest news today on crime, travel, the Tube, weather, and much more from the capital city of England and the UK. Evening Standard: Latest London news, headlines and breaking updates in the capital. Metro: Find out the latest news headlines and top stories from the UK, US and rest of the world. London King's Cross station evacuated with 'all lines blocked'. The Standard: All the latest news in London, around the UK and the world. London Marathon breaks world record with more than 1.1 million entries. BBC: Get all the latest news, live updates and content about London from across the BBC.\\n\",\n",
              "    'type': 'output_text'}],\n",
              "  'role': 'assistant',\n",
              "  'status': 'completed',\n",
              "  'type': 'message'}]"
            ]
          },
          "metadata": {},
          "execution_count": 54
        }
      ]
    },
    {
      "cell_type": "code",
      "source": [
        "!pip install -Uq \"openai-agents[viz]\""
      ],
      "metadata": {
        "id": "8ytLHjMivLAJ"
      },
      "execution_count": 56,
      "outputs": []
    },
    {
      "cell_type": "code",
      "source": [
        "from agents.extensions.visualization import draw_graph\n",
        "\n",
        "draw_graph(supervisor_agent)"
      ],
      "metadata": {
        "colab": {
          "base_uri": "https://localhost:8080/",
          "height": 291
        },
        "id": "8ELWR-fKvXjH",
        "outputId": "a2c00c8c-d55c-4074-d973-6b91f7efb6f7"
      },
      "execution_count": 57,
      "outputs": [
        {
          "output_type": "execute_result",
          "data": {
            "image/svg+xml": "<?xml version=\"1.0\" encoding=\"UTF-8\" standalone=\"no\"?>\n<!DOCTYPE svg PUBLIC \"-//W3C//DTD SVG 1.1//EN\"\n \"http://www.w3.org/Graphics/SVG/1.1/DTD/svg11.dtd\">\n<!-- Generated by graphviz version 2.43.0 (0)\n -->\n<!-- Title: G Pages: 1 -->\n<svg width=\"448pt\" height=\"203pt\"\n viewBox=\"0.00 0.00 448.09 203.05\" xmlns=\"http://www.w3.org/2000/svg\" xmlns:xlink=\"http://www.w3.org/1999/xlink\">\n<g id=\"graph0\" class=\"graph\" transform=\"scale(1 1) rotate(0) translate(4 199.05)\">\n<title>G</title>\n<polygon fill=\"white\" stroke=\"transparent\" points=\"-4,4 -4,-199.05 444.09,-199.05 444.09,4 -4,4\"/>\n<!-- __start__ -->\n<g id=\"node1\" class=\"node\">\n<title>__start__</title>\n<ellipse fill=\"lightblue\" stroke=\"black\" cx=\"199.79\" cy=\"-178.79\" rx=\"51.74\" ry=\"16.03\"/>\n<text text-anchor=\"middle\" x=\"199.79\" y=\"-175.09\" font-family=\"Arial\" font-size=\"14.00\">__start__</text>\n</g>\n<!-- Supervisor Agent -->\n<g id=\"node3\" class=\"node\">\n<title>Supervisor Agent</title>\n<polygon fill=\"lightyellow\" stroke=\"black\" points=\"259.29,-126.53 140.29,-126.53 140.29,-68.53 259.29,-68.53 259.29,-126.53\"/>\n<text text-anchor=\"middle\" x=\"199.79\" y=\"-93.83\" font-family=\"Arial\" font-size=\"14.00\">Supervisor Agent</text>\n</g>\n<!-- __start__&#45;&gt;Supervisor Agent -->\n<g id=\"edge1\" class=\"edge\">\n<title>__start__&#45;&gt;Supervisor Agent</title>\n<path fill=\"none\" stroke=\"black\" stroke-width=\"1.5\" d=\"M199.79,-162.51C199.79,-155.12 199.79,-145.89 199.79,-136.76\"/>\n<polygon fill=\"black\" stroke=\"black\" stroke-width=\"1.5\" points=\"203.29,-136.6 199.79,-126.6 196.29,-136.6 203.29,-136.6\"/>\n</g>\n<!-- __end__ -->\n<g id=\"node2\" class=\"node\">\n<title>__end__</title>\n<ellipse fill=\"lightblue\" stroke=\"black\" cx=\"48.79\" cy=\"-16.26\" rx=\"48.58\" ry=\"16.03\"/>\n<text text-anchor=\"middle\" x=\"48.79\" y=\"-12.56\" font-family=\"Arial\" font-size=\"14.00\">__end__</text>\n</g>\n<!-- Supervisor Agent&#45;&gt;__end__ -->\n<g id=\"edge6\" class=\"edge\">\n<title>Supervisor Agent&#45;&gt;__end__</title>\n<path fill=\"none\" stroke=\"black\" stroke-width=\"1.5\" d=\"M146.13,-68.36C125.1,-57.32 101.59,-44.98 82.95,-35.2\"/>\n<polygon fill=\"black\" stroke=\"black\" stroke-width=\"1.5\" points=\"84.44,-32.02 73.96,-30.47 81.18,-38.22 84.44,-32.02\"/>\n</g>\n<!-- current_datetime -->\n<g id=\"node4\" class=\"node\">\n<title>current_datetime</title>\n<ellipse fill=\"lightgreen\" stroke=\"black\" cx=\"199.79\" cy=\"-16.26\" rx=\"84.29\" ry=\"16.03\"/>\n<text text-anchor=\"middle\" x=\"199.79\" y=\"-12.56\" font-family=\"Arial\" font-size=\"14.00\">current_datetime</text>\n</g>\n<!-- Supervisor Agent&#45;&gt;current_datetime -->\n<g id=\"edge2\" class=\"edge\">\n<title>Supervisor Agent&#45;&gt;current_datetime</title>\n<path fill=\"none\" stroke=\"black\" stroke-width=\"1.5\" stroke-dasharray=\"1,5\" d=\"M193.3,-68.36C192.92,-60.07 192.96,-51.04 193.43,-42.92\"/>\n<polygon fill=\"black\" stroke=\"black\" stroke-width=\"1.5\" points=\"196.92,-43.15 194.29,-32.89 189.95,-42.55 196.92,-43.15\"/>\n</g>\n<!-- search_agent -->\n<g id=\"node5\" class=\"node\">\n<title>search_agent</title>\n<ellipse fill=\"lightgreen\" stroke=\"black\" cx=\"370.79\" cy=\"-16.26\" rx=\"69.09\" ry=\"16.03\"/>\n<text text-anchor=\"middle\" x=\"370.79\" y=\"-12.56\" font-family=\"Arial\" font-size=\"14.00\">search_agent</text>\n</g>\n<!-- Supervisor Agent&#45;&gt;search_agent -->\n<g id=\"edge4\" class=\"edge\">\n<title>Supervisor Agent&#45;&gt;search_agent</title>\n<path fill=\"none\" stroke=\"black\" stroke-width=\"1.5\" stroke-dasharray=\"1,5\" d=\"M254.07,-68.36C277.74,-57.15 305.08,-44.59 327.39,-34.73\"/>\n<polygon fill=\"black\" stroke=\"black\" stroke-width=\"1.5\" points=\"328.87,-37.91 336.62,-30.69 326.05,-31.5 328.87,-37.91\"/>\n</g>\n<!-- current_datetime&#45;&gt;Supervisor Agent -->\n<g id=\"edge3\" class=\"edge\">\n<title>current_datetime&#45;&gt;Supervisor Agent</title>\n<path fill=\"none\" stroke=\"black\" stroke-width=\"1.5\" stroke-dasharray=\"1,5\" d=\"M205.29,-32.89C206.17,-40.23 206.59,-49.33 206.54,-58.34\"/>\n<polygon fill=\"black\" stroke=\"black\" stroke-width=\"1.5\" points=\"203.04,-58.27 206.28,-68.36 210.03,-58.45 203.04,-58.27\"/>\n</g>\n<!-- search_agent&#45;&gt;Supervisor Agent -->\n<g id=\"edge5\" class=\"edge\">\n<title>search_agent&#45;&gt;Supervisor Agent</title>\n<path fill=\"none\" stroke=\"black\" stroke-width=\"1.5\" stroke-dasharray=\"1,5\" d=\"M345.56,-31.42C325.36,-41.4 296.17,-55.12 269.18,-67.39\"/>\n<polygon fill=\"black\" stroke=\"black\" stroke-width=\"1.5\" points=\"267.41,-64.35 259.74,-71.66 270.29,-70.73 267.41,-64.35\"/>\n</g>\n</g>\n</svg>\n",
            "text/plain": [
              "<graphviz.sources.Source at 0x788175d852d0>"
            ]
          },
          "metadata": {},
          "execution_count": 57
        }
      ]
    },
    {
      "cell_type": "markdown",
      "source": [
        "## Hands-off"
      ],
      "metadata": {
        "id": "6nMxqGhfvqua"
      }
    },
    {
      "cell_type": "code",
      "source": [
        "from tavily import TavilyClient\n",
        "@function_tool\n",
        "def browse_online(query):\n",
        "  tavily_client = TavilyClient(api_key=userdata.get(\"TAVILY_API_KEY\"))\n",
        "  response = tavily_client.search(query)\n",
        "  return response\n",
        "\n",
        "search_agent = Agent(\n",
        "    name = \"Search Agent\",\n",
        "    instructions=search_agent_instructions,\n",
        "    tools=[browse_online],\n",
        "    model=model,\n",
        "    handoff_description = \"Specialized in Seacrhing and Browsing\"\n",
        ")"
      ],
      "metadata": {
        "id": "0ooyHiytvy0z"
      },
      "execution_count": 58,
      "outputs": []
    },
    {
      "cell_type": "code",
      "source": [
        "triage_agent=Agent(\n",
        "    name = \"Triage Agent\",\n",
        "    instructions=supervisor_agent_instructions,\n",
        "    tools=[],\n",
        "    handoffs=[search_agent],\n",
        "    model=model,\n",
        ")"
      ],
      "metadata": {
        "id": "9YqZvNalwCj4"
      },
      "execution_count": 60,
      "outputs": []
    },
    {
      "cell_type": "code",
      "source": [
        "response = Runner.run_sync(triage_agent,\"What is weather in Lahore Today\")\n",
        "print(f\"**{response.last_agent.name}**\\n {response.final_output}\")"
      ],
      "metadata": {
        "colab": {
          "base_uri": "https://localhost:8080/"
        },
        "id": "ouNWTfFrwWW6",
        "outputId": "cf92312d-8cec-489f-bbe3-729865e5a309"
      },
      "execution_count": 61,
      "outputs": [
        {
          "output_type": "stream",
          "name": "stdout",
          "text": [
            "**Search Agent**\n",
            " The weather in Lahore today, May 4, 2025, is partly cloudy with a temperature of 32.3°C (90.1°F). The wind is from the ENE at 7.2 kph. The humidity is 43%.\n"
          ]
        }
      ]
    },
    {
      "cell_type": "code",
      "source": [
        "draw_graph(triage_agent)"
      ],
      "metadata": {
        "colab": {
          "base_uri": "https://localhost:8080/",
          "height": 416
        },
        "id": "j8TRAVoOwrh7",
        "outputId": "b687ca8d-3078-46e7-e0bf-897445c7f751"
      },
      "execution_count": 62,
      "outputs": [
        {
          "output_type": "execute_result",
          "data": {
            "image/svg+xml": "<?xml version=\"1.0\" encoding=\"UTF-8\" standalone=\"no\"?>\n<!DOCTYPE svg PUBLIC \"-//W3C//DTD SVG 1.1//EN\"\n \"http://www.w3.org/Graphics/SVG/1.1/DTD/svg11.dtd\">\n<!-- Generated by graphviz version 2.43.0 (0)\n -->\n<!-- Title: G Pages: 1 -->\n<svg width=\"270pt\" height=\"297pt\"\n viewBox=\"0.00 0.00 270.33 297.05\" xmlns=\"http://www.w3.org/2000/svg\" xmlns:xlink=\"http://www.w3.org/1999/xlink\">\n<g id=\"graph0\" class=\"graph\" transform=\"scale(1 1) rotate(0) translate(4 293.05)\">\n<title>G</title>\n<polygon fill=\"white\" stroke=\"transparent\" points=\"-4,4 -4,-293.05 266.33,-293.05 266.33,4 -4,4\"/>\n<!-- __start__ -->\n<g id=\"node1\" class=\"node\">\n<title>__start__</title>\n<ellipse fill=\"lightblue\" stroke=\"black\" cx=\"188.79\" cy=\"-272.79\" rx=\"51.74\" ry=\"16.03\"/>\n<text text-anchor=\"middle\" x=\"188.79\" y=\"-269.09\" font-family=\"Arial\" font-size=\"14.00\">__start__</text>\n</g>\n<!-- Triage Agent -->\n<g id=\"node3\" class=\"node\">\n<title>Triage Agent</title>\n<polygon fill=\"lightyellow\" stroke=\"black\" points=\"242.79,-220.53 134.79,-220.53 134.79,-162.53 242.79,-162.53 242.79,-220.53\"/>\n<text text-anchor=\"middle\" x=\"188.79\" y=\"-187.83\" font-family=\"Arial\" font-size=\"14.00\">Triage Agent</text>\n</g>\n<!-- __start__&#45;&gt;Triage Agent -->\n<g id=\"edge1\" class=\"edge\">\n<title>__start__&#45;&gt;Triage Agent</title>\n<path fill=\"none\" stroke=\"black\" stroke-width=\"1.5\" d=\"M188.79,-256.51C188.79,-249.12 188.79,-239.89 188.79,-230.76\"/>\n<polygon fill=\"black\" stroke=\"black\" stroke-width=\"1.5\" points=\"192.29,-230.6 188.79,-220.6 185.29,-230.6 192.29,-230.6\"/>\n</g>\n<!-- __end__ -->\n<g id=\"node2\" class=\"node\">\n<title>__end__</title>\n<ellipse fill=\"lightblue\" stroke=\"black\" cx=\"48.79\" cy=\"-16.26\" rx=\"48.58\" ry=\"16.03\"/>\n<text text-anchor=\"middle\" x=\"48.79\" y=\"-12.56\" font-family=\"Arial\" font-size=\"14.00\">__end__</text>\n</g>\n<!-- Search Agent -->\n<g id=\"node4\" class=\"node\">\n<title>Search Agent</title>\n<polygon fill=\"lightyellow\" stroke=\"black\" points=\"242.79,-126.53 134.79,-126.53 134.79,-68.53 242.79,-68.53 242.79,-126.53\"/>\n<text text-anchor=\"middle\" x=\"188.79\" y=\"-93.83\" font-family=\"Arial\" font-size=\"14.00\">Search Agent</text>\n</g>\n<!-- Triage Agent&#45;&gt;Search Agent -->\n<g id=\"edge2\" class=\"edge\">\n<title>Triage Agent&#45;&gt;Search Agent</title>\n<path fill=\"none\" stroke=\"black\" stroke-width=\"1.5\" d=\"M188.79,-162.42C188.79,-154.38 188.79,-145.48 188.79,-136.94\"/>\n<polygon fill=\"black\" stroke=\"black\" stroke-width=\"1.5\" points=\"192.29,-136.77 188.79,-126.77 185.29,-136.77 192.29,-136.77\"/>\n</g>\n<!-- Search Agent&#45;&gt;__end__ -->\n<g id=\"edge5\" class=\"edge\">\n<title>Search Agent&#45;&gt;__end__</title>\n<path fill=\"none\" stroke=\"black\" stroke-width=\"1.5\" d=\"M139.04,-68.36C119.94,-57.55 98.64,-45.49 81.53,-35.8\"/>\n<polygon fill=\"black\" stroke=\"black\" stroke-width=\"1.5\" points=\"82.93,-32.57 72.5,-30.69 79.48,-38.66 82.93,-32.57\"/>\n</g>\n<!-- browse_online -->\n<g id=\"node5\" class=\"node\">\n<title>browse_online</title>\n<ellipse fill=\"lightgreen\" stroke=\"black\" cx=\"188.79\" cy=\"-16.26\" rx=\"73.58\" ry=\"16.03\"/>\n<text text-anchor=\"middle\" x=\"188.79\" y=\"-12.56\" font-family=\"Arial\" font-size=\"14.00\">browse_online</text>\n</g>\n<!-- Search Agent&#45;&gt;browse_online -->\n<g id=\"edge3\" class=\"edge\">\n<title>Search Agent&#45;&gt;browse_online</title>\n<path fill=\"none\" stroke=\"black\" stroke-width=\"1.5\" stroke-dasharray=\"1,5\" d=\"M182.3,-68.36C181.92,-60.07 181.96,-51.04 182.43,-42.92\"/>\n<polygon fill=\"black\" stroke=\"black\" stroke-width=\"1.5\" points=\"185.92,-43.15 183.29,-32.89 178.95,-42.55 185.92,-43.15\"/>\n</g>\n<!-- browse_online&#45;&gt;Search Agent -->\n<g id=\"edge4\" class=\"edge\">\n<title>browse_online&#45;&gt;Search Agent</title>\n<path fill=\"none\" stroke=\"black\" stroke-width=\"1.5\" stroke-dasharray=\"1,5\" d=\"M194.29,-32.89C195.17,-40.23 195.59,-49.33 195.54,-58.34\"/>\n<polygon fill=\"black\" stroke=\"black\" stroke-width=\"1.5\" points=\"192.04,-58.27 195.28,-68.36 199.03,-58.45 192.04,-58.27\"/>\n</g>\n</g>\n</svg>\n",
            "text/plain": [
              "<graphviz.sources.Source at 0x788175d46c90>"
            ]
          },
          "metadata": {},
          "execution_count": 62
        }
      ]
    },
    {
      "cell_type": "code",
      "source": [],
      "metadata": {
        "id": "wh-SzC5swu3M"
      },
      "execution_count": null,
      "outputs": []
    }
  ]
}